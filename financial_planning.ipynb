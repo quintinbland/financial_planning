{
 "cells": [
  {
   "cell_type": "markdown",
   "metadata": {},
   "source": [
    "# Financial Planning with APIs and Simulations\n",
    "\n",
    "In this Challenge, you’ll create two financial analysis tools by using a single Jupyter notebook:\n",
    "\n",
    "Part 1: A financial planner for emergencies. The members will be able to use this tool to visualize their current savings. The members can then determine if they have enough reserves for an emergency fund.\n",
    "\n",
    "Part 2: A financial planner for retirement. This tool will forecast the performance of their retirement portfolio in 30 years. To do this, the tool will make an Alpaca API call via the Alpaca SDK to get historical price data for use in Monte Carlo simulations.\n",
    "\n",
    "You’ll use the information from the Monte Carlo simulation to answer questions about the portfolio in your Jupyter notebook.\n",
    "\n"
   ]
  },
  {
   "cell_type": "code",
   "execution_count": 1,
   "metadata": {},
   "outputs": [],
   "source": [
    "# Import the required libraries and dependencies\n",
    "import os\n",
    "import requests\n",
    "import json\n",
    "import pandas as pd\n",
    "from dotenv import load_dotenv\n",
    "import alpaca_trade_api as tradeapi\n",
    "from MCForecastTools import MCSimulation\n",
    "\n",
    "%matplotlib inline"
   ]
  },
  {
   "cell_type": "code",
   "execution_count": 2,
   "metadata": {},
   "outputs": [
    {
     "data": {
      "text/plain": [
       "True"
      ]
     },
     "execution_count": 2,
     "metadata": {},
     "output_type": "execute_result"
    }
   ],
   "source": [
    "# Load the environment variables from the .env file\n",
    "#by calling the load_dotenv function\n",
    "load_dotenv('keys.env')"
   ]
  },
  {
   "cell_type": "markdown",
   "metadata": {},
   "source": [
    "## Part 1: Create a Financial Planner for Emergencies"
   ]
  },
  {
   "cell_type": "markdown",
   "metadata": {},
   "source": [
    "### Evaluate the Cryptocurrency Wallet by Using the Requests Library\n",
    "\n",
    "In this section, you’ll determine the current value of a member’s cryptocurrency wallet. You’ll collect the current prices for the Bitcoin and Ethereum cryptocurrencies by using the Python Requests library. For the prototype, you’ll assume that the member holds the 1.2 Bitcoins (BTC) and 5.3 Ethereum coins (ETH). To do all this, complete the following steps:\n",
    "\n",
    "1. Create a variable named `monthly_income`, and set its value to `12000`.\n",
    "\n",
    "2. Use the Requests library to get the current price (in US dollars) of Bitcoin (BTC) and Ethereum (ETH) by using the API endpoints that the starter code supplies.\n",
    "\n",
    "3. Navigate the JSON response object to access the current price of each coin, and store each in a variable.\n",
    "\n",
    "    > **Hint** Note the specific identifier for each cryptocurrency in the API JSON response. The Bitcoin identifier is `1`, and the Ethereum identifier is `1027`.\n",
    "\n",
    "4. Calculate the value, in US dollars, of the current amount of each cryptocurrency and of the entire cryptocurrency wallet.\n",
    "\n"
   ]
  },
  {
   "cell_type": "code",
   "execution_count": 3,
   "metadata": {},
   "outputs": [],
   "source": [
    "# The current number of coins for each cryptocurrency asset held in the portfolio.\n",
    "btc_coins = 1.2\n",
    "eth_coins = 5.3"
   ]
  },
  {
   "cell_type": "markdown",
   "metadata": {},
   "source": [
    "#### Step 1: Create a variable named `monthly_income`, and set its value to `12000`."
   ]
  },
  {
   "cell_type": "code",
   "execution_count": 4,
   "metadata": {},
   "outputs": [],
   "source": [
    "# The monthly amount for the member's household income\n",
    "monthly_income = 12000"
   ]
  },
  {
   "cell_type": "markdown",
   "metadata": {},
   "source": [
    "#### Review the endpoint URLs for the API calls to Free Crypto API in order to get the current pricing information for both BTC and ETH."
   ]
  },
  {
   "cell_type": "code",
   "execution_count": 5,
   "metadata": {},
   "outputs": [],
   "source": [
    "# The Free Crypto API Call endpoint URLs for the held cryptocurrency assets\n",
    "btc_url = \"https://api.alternative.me/v2/ticker/Bitcoin/?convert=USD\"\n",
    "eth_url = \"https://api.alternative.me/v2/ticker/Ethereum/?convert=USD\""
   ]
  },
  {
   "cell_type": "markdown",
   "metadata": {},
   "source": [
    "#### Step 2. Use the Requests library to get the current price (in US dollars) of Bitcoin (BTC) and Ethereum (ETH) by using the API endpoints that the starter code supplied."
   ]
  },
  {
   "cell_type": "code",
   "execution_count": 6,
   "metadata": {},
   "outputs": [
    {
     "name": "stdout",
     "output_type": "stream",
     "text": [
      "{\n",
      "   \"data\": {\n",
      "      \"1\": {\n",
      "         \"circulating_supply\": 19023037,\n",
      "         \"id\": 1,\n",
      "         \"last_updated\": 1651001939,\n",
      "         \"max_supply\": 21000000,\n",
      "         \"name\": \"Bitcoin\",\n",
      "         \"quotes\": {\n",
      "            \"USD\": {\n",
      "               \"market_cap\": 724237031808,\n",
      "               \"percent_change_1h\": -0.882566231184288,\n",
      "               \"percent_change_24h\": -5.60330434400986,\n",
      "               \"percent_change_7d\": -6.76395035200447,\n",
      "               \"percentage_change_1h\": -0.882566231184288,\n",
      "               \"percentage_change_24h\": -5.60330434400986,\n",
      "               \"percentage_change_7d\": -6.76395035200447,\n",
      "               \"price\": 38072.0,\n",
      "               \"volume_24h\": 28624116007\n",
      "            }\n",
      "         },\n",
      "         \"rank\": 1,\n",
      "         \"symbol\": \"BTC\",\n",
      "         \"total_supply\": 19023037,\n",
      "         \"website_slug\": \"bitcoin\"\n",
      "      }\n",
      "   },\n",
      "   \"metadata\": {\n",
      "      \"error\": null,\n",
      "      \"num_cryptocurrencies\": 3106,\n",
      "      \"timestamp\": 1651001939\n",
      "   }\n",
      "}\n"
     ]
    }
   ],
   "source": [
    "# Using the Python requests library, make an API call to access the current price of BTC\n",
    "btc_response = requests.get(btc_url).json()\n",
    "\n",
    "# Use the json.dumps function to review the response data from the API call\n",
    "# Use the indent and sort_keys parameters to make the response object readable\n",
    "print(json.dumps(btc_response, indent=3, sort_keys=True))"
   ]
  },
  {
   "cell_type": "code",
   "execution_count": 7,
   "metadata": {},
   "outputs": [
    {
     "name": "stdout",
     "output_type": "stream",
     "text": [
      "{\n",
      "   \"data\": {\n",
      "      \"1027\": {\n",
      "         \"circulating_supply\": 120539252,\n",
      "         \"id\": 1027,\n",
      "         \"last_updated\": 1651001925,\n",
      "         \"max_supply\": 0,\n",
      "         \"name\": \"Ethereum\",\n",
      "         \"quotes\": {\n",
      "            \"USD\": {\n",
      "               \"market_cap\": 341710399801,\n",
      "               \"percent_change_1h\": -1.15669979312085,\n",
      "               \"percent_change_24h\": -6.08770204341911,\n",
      "               \"percent_change_7d\": -7.8683807342678,\n",
      "               \"percentage_change_1h\": -1.15669979312085,\n",
      "               \"percentage_change_24h\": -6.08770204341911,\n",
      "               \"percentage_change_7d\": -7.8683807342678,\n",
      "               \"price\": 2820.97,\n",
      "               \"volume_24h\": 16644925252\n",
      "            }\n",
      "         },\n",
      "         \"rank\": 2,\n",
      "         \"symbol\": \"ETH\",\n",
      "         \"total_supply\": 120539252,\n",
      "         \"website_slug\": \"ethereum\"\n",
      "      }\n",
      "   },\n",
      "   \"metadata\": {\n",
      "      \"error\": null,\n",
      "      \"num_cryptocurrencies\": 3106,\n",
      "      \"timestamp\": 1651001925\n",
      "   }\n",
      "}\n"
     ]
    }
   ],
   "source": [
    "# Using the Python requests library, make an API call to access the current price ETH\n",
    "eth_response = requests.get(\"https://api.alternative.me/v2/ticker/Ethereum/?convert=USD\").json()\n",
    "\n",
    "# Use the json.dumps function to review the response data from the API call\n",
    "# Use the indent and sort_keys parameters to make the response object readable\n",
    "print(json.dumps(eth_response, indent=3, sort_keys=True))"
   ]
  },
  {
   "cell_type": "markdown",
   "metadata": {},
   "source": [
    "#### Step 3: Navigate the JSON response object to access the current price of each coin, and store each in a variable."
   ]
  },
  {
   "cell_type": "code",
   "execution_count": 8,
   "metadata": {},
   "outputs": [
    {
     "data": {
      "text/plain": [
       "38072.0"
      ]
     },
     "execution_count": 8,
     "metadata": {},
     "output_type": "execute_result"
    }
   ],
   "source": [
    "# Navigate the BTC response object to access the current price of BTC\n",
    "btc_price = btc_response['data']['1']['quotes']['USD']['price']\n",
    "\n",
    "# Print the current price of BTC\n",
    "btc_price\n"
   ]
  },
  {
   "cell_type": "code",
   "execution_count": 9,
   "metadata": {},
   "outputs": [
    {
     "data": {
      "text/plain": [
       "2820.97"
      ]
     },
     "execution_count": 9,
     "metadata": {},
     "output_type": "execute_result"
    }
   ],
   "source": [
    "# Navigate the BTC response object to access the current price of ETH\n",
    "eth_price = eth_response['data']['1027']['quotes']['USD']['price']\n",
    "\n",
    "# Print the current price of ETH\n",
    "eth_price\n"
   ]
  },
  {
   "cell_type": "markdown",
   "metadata": {},
   "source": [
    "### Step 4: Calculate the value, in US dollars, of the current amount of each cryptocurrency and of the entire cryptocurrency wallet."
   ]
  },
  {
   "cell_type": "code",
   "execution_count": 10,
   "metadata": {},
   "outputs": [
    {
     "data": {
      "text/plain": [
       "45686.4"
      ]
     },
     "execution_count": 10,
     "metadata": {},
     "output_type": "execute_result"
    }
   ],
   "source": [
    "# Compute the current value of the BTC holding \n",
    "btc_value = btc_coins * btc_price\n",
    "\n",
    "# Print current value of your holding in BTC\n",
    "btc_value\n"
   ]
  },
  {
   "cell_type": "code",
   "execution_count": 11,
   "metadata": {},
   "outputs": [
    {
     "data": {
      "text/plain": [
       "14951.140999999998"
      ]
     },
     "execution_count": 11,
     "metadata": {},
     "output_type": "execute_result"
    }
   ],
   "source": [
    "# Compute the current value of the ETH holding \n",
    "eth_value = eth_coins * eth_price\n",
    "\n",
    "# Print current value of your holding in ETH\n",
    "eth_value\n"
   ]
  },
  {
   "cell_type": "code",
   "execution_count": 12,
   "metadata": {},
   "outputs": [
    {
     "data": {
      "text/plain": [
       "60637.541"
      ]
     },
     "execution_count": 12,
     "metadata": {},
     "output_type": "execute_result"
    }
   ],
   "source": [
    "# Compute the total value of the cryptocurrency wallet\n",
    "# Add the value of the BTC holding to the value of the ETH holding\n",
    "total_crypto_wallet = btc_value + eth_value\n",
    "\n",
    "# Print current cryptocurrency wallet balance\n",
    "total_crypto_wallet\n"
   ]
  },
  {
   "cell_type": "markdown",
   "metadata": {},
   "source": [
    "### Evaluate the Stock and Bond Holdings by Using the Alpaca SDK\n",
    "\n",
    "In this section, you’ll determine the current value of a member’s stock and bond holdings. You’ll make an API call to Alpaca via the Alpaca SDK to get the current closing prices of the SPDR S&P 500 ETF Trust (ticker: SPY) and of the iShares Core US Aggregate Bond ETF (ticker: AGG). For the prototype, assume that the member holds 110 shares of SPY, which represents the stock portion of their portfolio, and 200 shares of AGG, which represents the bond portion. To do all this, complete the following steps:\n",
    "\n",
    "1. In the `Starter_Code` folder, create an environment file (`.env`) to store the values of your Alpaca API key and Alpaca secret key.\n",
    "\n",
    "2. Set the variables for the Alpaca API and secret keys. Using the Alpaca SDK, create the Alpaca `tradeapi.REST` object. In this object, include the parameters for the Alpaca API key, the secret key, and the version number.\n",
    "\n",
    "3. Set the following parameters for the Alpaca API call:\n",
    "\n",
    "    - `tickers`: Use the tickers for the member’s stock and bond holdings.\n",
    "\n",
    "    - `timeframe`: Use a time frame of one day.\n",
    "\n",
    "    - `start_date` and `end_date`: Use the same date for these parameters, and format them with the date of the previous weekday (or `2020-08-07`). This is because you want the one closing price for the most-recent trading day.\n",
    "\n",
    "4. Get the current closing prices for `SPY` and `AGG` by using the Alpaca `get_bars` function. Format the response as a Pandas DataFrame by including the `df` property at the end of the `get_bars` function.\n",
    "\n",
    "5. Navigating the Alpaca response DataFrame, select the `SPY` and `AGG` closing prices, and store them as variables.\n",
    "\n",
    "6. Calculate the value, in US dollars, of the current amount of shares in each of the stock and bond portions of the portfolio, and print the results.\n"
   ]
  },
  {
   "cell_type": "markdown",
   "metadata": {},
   "source": [
    "#### Review the total number of shares held in both (SPY) and (AGG)."
   ]
  },
  {
   "cell_type": "code",
   "execution_count": 13,
   "metadata": {},
   "outputs": [],
   "source": [
    "# Current amount of shares held in both the stock (SPY) and bond (AGG) portion of the portfolio.\n",
    "spy_shares = 110\n",
    "agg_shares = 200\n"
   ]
  },
  {
   "cell_type": "markdown",
   "metadata": {},
   "source": [
    "#### Step 1: In the `Starter_Code` folder, create an environment file (`.env`) to store the values of your Alpaca API key and Alpaca secret key."
   ]
  },
  {
   "cell_type": "markdown",
   "metadata": {},
   "source": [
    "#### Step 2: Set the variables for the Alpaca API and secret keys. Using the Alpaca SDK, create the Alpaca `tradeapi.REST` object. In this object, include the parameters for the Alpaca API key, the secret key, and the version number."
   ]
  },
  {
   "cell_type": "code",
   "execution_count": 14,
   "metadata": {},
   "outputs": [],
   "source": [
    "# Set the variables for the Alpaca API and secret keys\n",
    "alpaca_api_key = os.getenv('ALPACA_API_KEY')\n",
    "alpaca_secret_key = os.getenv('ALPACA_SECRET_KEY')\n",
    "\n",
    "# Create the Alpaca tradeapi.REST object\n",
    "alpaca = tradeapi.REST(\n",
    "    alpaca_api_key,\n",
    "    alpaca_secret_key,\n",
    "    api_version = 'v2'\n",
    ")\n"
   ]
  },
  {
   "cell_type": "markdown",
   "metadata": {},
   "source": [
    "#### Step 3: Set the following parameters for the Alpaca API call:\n",
    "\n",
    "- `tickers`: Use the tickers for the member’s stock and bond holdings.\n",
    "\n",
    "- `timeframe`: Use a time frame of one day.\n",
    "\n",
    "- `start_date` and `end_date`: Use the same date for these parameters, and format them with the date of the previous weekday (or `2020-08-07`). This is because you want the one closing price for the most-recent trading day.\n"
   ]
  },
  {
   "cell_type": "code",
   "execution_count": 15,
   "metadata": {},
   "outputs": [],
   "source": [
    "# Set the tickers for both the bond and stock portion of the portfolio\n",
    "tickers = ['SPY', 'AGG']\n",
    "\n",
    "# Set timeframe to 1Day\n",
    "timeframe = '1Day'\n",
    "\n",
    "# Format current date as ISO format\n",
    "# Set both the start and end date at the date of your prior weekday \n",
    "# This will give you the closing price of the previous trading day\n",
    "# Alternatively you can use a start and end date of 2020-08-07\n",
    "start_date = pd.Timestamp('2022-04-25', tz='America/New_York').isoformat()\n",
    "end_date = pd.Timestamp('2022-04-25', tz='America/New_York').isoformat()\n"
   ]
  },
  {
   "cell_type": "markdown",
   "metadata": {},
   "source": [
    "#### Step 4: Get the current closing prices for `SPY` and `AGG` by using the Alpaca `get_bars` function. Format the response as a Pandas DataFrame by including the `df` property at the end of the `get_bars` function."
   ]
  },
  {
   "cell_type": "code",
   "execution_count": 17,
   "metadata": {},
   "outputs": [
    {
     "data": {
      "text/html": [
       "<div>\n",
       "<style scoped>\n",
       "    .dataframe tbody tr th:only-of-type {\n",
       "        vertical-align: middle;\n",
       "    }\n",
       "\n",
       "    .dataframe tbody tr th {\n",
       "        vertical-align: top;\n",
       "    }\n",
       "\n",
       "    .dataframe thead tr th {\n",
       "        text-align: left;\n",
       "    }\n",
       "\n",
       "    .dataframe thead tr:last-of-type th {\n",
       "        text-align: right;\n",
       "    }\n",
       "</style>\n",
       "<table border=\"1\" class=\"dataframe\">\n",
       "  <thead>\n",
       "    <tr>\n",
       "      <th></th>\n",
       "      <th colspan=\"7\" halign=\"left\">SPY</th>\n",
       "      <th colspan=\"7\" halign=\"left\">AGG</th>\n",
       "    </tr>\n",
       "    <tr>\n",
       "      <th></th>\n",
       "      <th>open</th>\n",
       "      <th>high</th>\n",
       "      <th>low</th>\n",
       "      <th>close</th>\n",
       "      <th>volume</th>\n",
       "      <th>trade_count</th>\n",
       "      <th>vwap</th>\n",
       "      <th>open</th>\n",
       "      <th>high</th>\n",
       "      <th>low</th>\n",
       "      <th>close</th>\n",
       "      <th>volume</th>\n",
       "      <th>trade_count</th>\n",
       "      <th>vwap</th>\n",
       "    </tr>\n",
       "    <tr>\n",
       "      <th>timestamp</th>\n",
       "      <th></th>\n",
       "      <th></th>\n",
       "      <th></th>\n",
       "      <th></th>\n",
       "      <th></th>\n",
       "      <th></th>\n",
       "      <th></th>\n",
       "      <th></th>\n",
       "      <th></th>\n",
       "      <th></th>\n",
       "      <th></th>\n",
       "      <th></th>\n",
       "      <th></th>\n",
       "      <th></th>\n",
       "    </tr>\n",
       "  </thead>\n",
       "  <tbody>\n",
       "    <tr>\n",
       "      <th>2022-04-25 04:00:00+00:00</th>\n",
       "      <td>423.7</td>\n",
       "      <td>428.69</td>\n",
       "      <td>418.84</td>\n",
       "      <td>428.51</td>\n",
       "      <td>119103454</td>\n",
       "      <td>1139830</td>\n",
       "      <td>423.952513</td>\n",
       "      <td>103.47</td>\n",
       "      <td>103.93</td>\n",
       "      <td>103.47</td>\n",
       "      <td>103.63</td>\n",
       "      <td>8768318</td>\n",
       "      <td>31373</td>\n",
       "      <td>103.691097</td>\n",
       "    </tr>\n",
       "  </tbody>\n",
       "</table>\n",
       "</div>"
      ],
      "text/plain": [
       "                             SPY                                     \\\n",
       "                            open    high     low   close     volume   \n",
       "timestamp                                                             \n",
       "2022-04-25 04:00:00+00:00  423.7  428.69  418.84  428.51  119103454   \n",
       "\n",
       "                                                      AGG                  \\\n",
       "                          trade_count        vwap    open    high     low   \n",
       "timestamp                                                                   \n",
       "2022-04-25 04:00:00+00:00     1139830  423.952513  103.47  103.93  103.47   \n",
       "\n",
       "                                                                    \n",
       "                            close   volume trade_count        vwap  \n",
       "timestamp                                                           \n",
       "2022-04-25 04:00:00+00:00  103.63  8768318       31373  103.691097  "
      ]
     },
     "execution_count": 17,
     "metadata": {},
     "output_type": "execute_result"
    }
   ],
   "source": [
    "# Use the Alpaca get_bars function to get current closing prices the portfolio\n",
    "# Be sure to set the `df` property after the function to format the response object as a DataFrame\n",
    "portfolio_data = alpaca.get_bars(\n",
    "    tickers,\n",
    "    timeframe,\n",
    "    start = start_date,\n",
    "    end = end_date\n",
    ").df\n",
    "\n",
    "# Reorganize the DataFrame\n",
    "# Separate ticker data\n",
    "SPY = portfolio_data[portfolio_data['symbol']=='SPY'].drop('symbol', axis=1)\n",
    "AGG = portfolio_data[portfolio_data['symbol']=='AGG'].drop('symbol', axis=1)\n",
    "# Concatenate the ticker DataFrames\n",
    "\n",
    "portfolio_data = pd.concat([SPY, AGG], axis=1, keys=['SPY', 'AGG'])\n",
    "\n",
    "# Review the first 5 rows of the Alpaca DataFrame\n",
    "portfolio_data.head()"
   ]
  },
  {
   "cell_type": "markdown",
   "metadata": {},
   "source": [
    "#### Step 5: Navigating the Alpaca response DataFrame, select the `SPY` and `AGG` closing prices, and store them as variables."
   ]
  },
  {
   "cell_type": "code",
   "execution_count": 19,
   "metadata": {},
   "outputs": [
    {
     "data": {
      "text/plain": [
       "103.63"
      ]
     },
     "execution_count": 19,
     "metadata": {},
     "output_type": "execute_result"
    }
   ],
   "source": [
    "# Access the closing price for AGG from the Alpaca DataFrame\n",
    "# Converting the value to a floating point number\n",
    "agg_close_price = portfolio_data['AGG']['close'][0]\n",
    "\n",
    "# Print the AGG closing price\n",
    "agg_close_price"
   ]
  },
  {
   "cell_type": "code",
   "execution_count": 20,
   "metadata": {},
   "outputs": [
    {
     "data": {
      "text/plain": [
       "428.51"
      ]
     },
     "execution_count": 20,
     "metadata": {},
     "output_type": "execute_result"
    }
   ],
   "source": [
    "# Access the closing price for SPY from the Alpaca DataFrame\n",
    "# Converting the value to a floating point number\n",
    "spy_close_price = portfolio_data['SPY']['close'][0]\n",
    "\n",
    "# Print the SPY closing price\n",
    "spy_close_price"
   ]
  },
  {
   "cell_type": "markdown",
   "metadata": {},
   "source": [
    "#### Step 6: Calculate the value, in US dollars, of the current amount of shares in each of the stock and bond portions of the portfolio, and print the results."
   ]
  },
  {
   "cell_type": "code",
   "execution_count": 21,
   "metadata": {},
   "outputs": [
    {
     "data": {
      "text/plain": [
       "20726.0"
      ]
     },
     "execution_count": 21,
     "metadata": {},
     "output_type": "execute_result"
    }
   ],
   "source": [
    "# Calculate the current value of the bond portion of the portfolio\n",
    "agg_value = agg_shares * agg_close_price\n",
    "\n",
    "# Print the current value of the bond portfolio\n",
    "agg_value"
   ]
  },
  {
   "cell_type": "code",
   "execution_count": 22,
   "metadata": {},
   "outputs": [
    {
     "data": {
      "text/plain": [
       "47136.1"
      ]
     },
     "execution_count": 22,
     "metadata": {},
     "output_type": "execute_result"
    }
   ],
   "source": [
    "# Calculate the current value of the stock portion of the portfolio\n",
    "spy_value = spy_shares * spy_close_price\n",
    "\n",
    "# Print the current value of the stock portfolio\n",
    "spy_value"
   ]
  },
  {
   "cell_type": "code",
   "execution_count": 23,
   "metadata": {},
   "outputs": [
    {
     "data": {
      "text/plain": [
       "67862.1"
      ]
     },
     "execution_count": 23,
     "metadata": {},
     "output_type": "execute_result"
    }
   ],
   "source": [
    "# Calculate the total value of the stock and bond portion of the portfolio\n",
    "total_stocks_bonds = agg_value + spy_value\n",
    "\n",
    "# Print the current balance of the stock and bond portion of the portfolio\n",
    "total_stocks_bonds"
   ]
  },
  {
   "cell_type": "code",
   "execution_count": 24,
   "metadata": {},
   "outputs": [
    {
     "name": "stdout",
     "output_type": "stream",
     "text": [
      "The total wallet balance is $128499.64\n"
     ]
    }
   ],
   "source": [
    "# Calculate the total value of the member's entire savings portfolio\n",
    "# Add the value of the cryptocurrency wallet to the value of the total stocks and bonds\n",
    "total_portfolio = total_crypto_wallet + total_stocks_bonds\n",
    "\n",
    "# Print current total wallet balance\n",
    "print(f'The total wallet balance is ${total_portfolio:0.2f}')"
   ]
  },
  {
   "cell_type": "markdown",
   "metadata": {},
   "source": [
    "### Evaluate the Emergency Fund\n",
    "\n",
    "In this section, you’ll use the valuations for the cryptocurrency wallet and for the stock and bond portions of the portfolio to determine if the credit union member has enough savings to build an emergency fund into their financial plan. To do this, complete the following steps:\n",
    "\n",
    "1. Create a Python list named `savings_data` that has two elements. The first element contains the total value of the cryptocurrency wallet. The second element contains the total value of the stock and bond portions of the portfolio.\n",
    "\n",
    "2. Use the `savings_data` list to create a Pandas DataFrame named `savings_df`, and then display this DataFrame. The function to create the DataFrame should take the following three parameters:\n",
    "\n",
    "    - `savings_data`: Use the list that you just created.\n",
    "\n",
    "    - `columns`: Set this parameter equal to a Python list with a single value called `amount`.\n",
    "\n",
    "    - `index`: Set this parameter equal to a Python list with the values of `crypto` and `stock/bond`.\n",
    "\n",
    "3. Use the `savings_df` DataFrame to plot a pie chart that visualizes the composition of the member’s portfolio. The y-axis of the pie chart uses `amount`. Be sure to add a title.\n",
    "\n",
    "4. Using Python, determine if the current portfolio has enough to create an emergency fund as part of the member’s financial plan. Ideally, an emergency fund should equal to three times the member’s monthly income. To do this, implement the following steps:\n",
    "\n",
    "    1. Create a variable named `emergency_fund_value`, and set it equal to three times the value of the member’s `monthly_income` of $12000. (You set this earlier in Part 1).\n",
    "\n",
    "    2. Create a series of three if statements to determine if the member’s total portfolio is large enough to fund the emergency portfolio:\n",
    "\n",
    "        1. If the total portfolio value is greater than the emergency fund value, display a message congratulating the member for having enough money in this fund.\n",
    "\n",
    "        2. Else if the total portfolio value is equal to the emergency fund value, display a message congratulating the member on reaching this important financial goal.\n",
    "\n",
    "        3. Else the total portfolio is less than the emergency fund value, so display a message showing how many dollars away the member is from reaching the goal. (Subtract the total portfolio value from the emergency fund value.)\n"
   ]
  },
  {
   "cell_type": "markdown",
   "metadata": {},
   "source": [
    "#### Step 1: Create a Python list named `savings_data` that has two elements. The first element contains the total value of the cryptocurrency wallet. The second element contains the total value of the stock and bond portions of the portfolio."
   ]
  },
  {
   "cell_type": "code",
   "execution_count": 25,
   "metadata": {},
   "outputs": [
    {
     "data": {
      "text/plain": [
       "[60637.541, 67862.1]"
      ]
     },
     "execution_count": 25,
     "metadata": {},
     "output_type": "execute_result"
    }
   ],
   "source": [
    "# Consolidate financial assets data into a Python list\n",
    "savings_data = [\n",
    "    total_crypto_wallet,\n",
    "    total_stocks_bonds\n",
    "]\n",
    "\n",
    "# Review the Python list savings_data\n",
    "savings_data"
   ]
  },
  {
   "cell_type": "markdown",
   "metadata": {},
   "source": [
    "#### Step 2: Use the `savings_data` list to create a Pandas DataFrame named `savings_df`, and then display this DataFrame. The function to create the DataFrame should take the following three parameters:\n",
    "\n",
    "- `savings_data`: Use the list that you just created.\n",
    "\n",
    "- `columns`: Set this parameter equal to a Python list with a single value called `amount`.\n",
    "\n",
    "- `index`: Set this parameter equal to a Python list with the values of `crypto` and `stock/bond`.\n"
   ]
  },
  {
   "cell_type": "code",
   "execution_count": 26,
   "metadata": {},
   "outputs": [
    {
     "data": {
      "text/html": [
       "<div>\n",
       "<style scoped>\n",
       "    .dataframe tbody tr th:only-of-type {\n",
       "        vertical-align: middle;\n",
       "    }\n",
       "\n",
       "    .dataframe tbody tr th {\n",
       "        vertical-align: top;\n",
       "    }\n",
       "\n",
       "    .dataframe thead th {\n",
       "        text-align: right;\n",
       "    }\n",
       "</style>\n",
       "<table border=\"1\" class=\"dataframe\">\n",
       "  <thead>\n",
       "    <tr style=\"text-align: right;\">\n",
       "      <th></th>\n",
       "      <th>amount</th>\n",
       "    </tr>\n",
       "  </thead>\n",
       "  <tbody>\n",
       "    <tr>\n",
       "      <th>crypto</th>\n",
       "      <td>60637.541</td>\n",
       "    </tr>\n",
       "    <tr>\n",
       "      <th>stock/bond</th>\n",
       "      <td>67862.100</td>\n",
       "    </tr>\n",
       "  </tbody>\n",
       "</table>\n",
       "</div>"
      ],
      "text/plain": [
       "               amount\n",
       "crypto      60637.541\n",
       "stock/bond  67862.100"
      ]
     },
     "execution_count": 26,
     "metadata": {},
     "output_type": "execute_result"
    }
   ],
   "source": [
    "# Create a Pandas DataFrame called savings_df \n",
    "savings_df = pd.DataFrame(savings_data, columns = ['amount'], index = ['crypto', 'stock/bond'])\n",
    "\n",
    "# Display the savings_df DataFrame\n",
    "savings_df"
   ]
  },
  {
   "cell_type": "markdown",
   "metadata": {},
   "source": [
    "#### Step 3: Use the `savings_df` DataFrame to plot a pie chart that visualizes the composition of the member’s portfolio. The y-axis of the pie chart uses `amount`. Be sure to add a title."
   ]
  },
  {
   "cell_type": "code",
   "execution_count": 27,
   "metadata": {},
   "outputs": [
    {
     "data": {
      "text/plain": [
       "<AxesSubplot:title={'center':'Total Portfolio Value'}, ylabel='amount'>"
      ]
     },
     "execution_count": 27,
     "metadata": {},
     "output_type": "execute_result"
    },
    {
     "data": {
      "image/png": "[encoded data removed]",
      "text/plain": [
       "<Figure size 432x288 with 1 Axes>"
      ]
     },
     "metadata": {},
     "output_type": "display_data"
    }
   ],
   "source": [
    "# Plot the total value of the member's portfolio (crypto and stock/bond) in a pie chart\n",
    "savings_df.plot.pie(y='amount', title = 'Total Portfolio Value')"
   ]
  },
  {
   "cell_type": "markdown",
   "metadata": {},
   "source": [
    "#### Step 4: Using Python, determine if the current portfolio has enough to create an emergency fund as part of the member’s financial plan. Ideally, an emergency fund should equal to three times the member’s monthly income. To do this, implement the following steps:\n",
    "\n",
    "Step 1. Create a variable named `emergency_fund_value`, and set it equal to three times the value of the member’s `monthly_income` of 12000. (You set this earlier in Part 1).\n",
    "\n",
    "Step 2. Create a series of three if statements to determine if the member’s total portfolio is large enough to fund the emergency portfolio:\n",
    "\n",
    "* If the total portfolio value is greater than the emergency fund value, display a message congratulating the member for having enough money in this fund.\n",
    "\n",
    "* Else if the total portfolio value is equal to the emergency fund value, display a message congratulating the member on reaching this important financial goal.\n",
    "\n",
    "* Else the total portfolio is less than the emergency fund value, so display a message showing how many dollars away the member is from reaching the goal. (Subtract the total portfolio value from the emergency fund value.)\n"
   ]
  },
  {
   "cell_type": "markdown",
   "metadata": {},
   "source": [
    "##### Step 4-1: Create a variable named `emergency_fund_value`, and set it equal to three times the value of the member’s `monthly_income` of 12000. (You set this earlier in Part 1)."
   ]
  },
  {
   "cell_type": "code",
   "execution_count": 29,
   "metadata": {},
   "outputs": [],
   "source": [
    "# Create a variable named emergency_fund_value\n",
    "emergency_fund_value = monthly_income * 3"
   ]
  },
  {
   "cell_type": "markdown",
   "metadata": {},
   "source": [
    "##### Step 4-2: Create a series of three if statements to determine if the member’s total portfolio is large enough to fund the emergency portfolio:\n",
    "\n",
    "* If the total portfolio value is greater than the emergency fund value, display a message congratulating the member for having enough money in this fund.\n",
    "\n",
    "* Else if the total portfolio value is equal to the emergency fund value, display a message congratulating the member on reaching this important financial goal.\n",
    "\n",
    "* Else the total portfolio is less than the emergency fund value, so display a message showing how many dollars away the member is from reaching the goal. (Subtract the total portfolio value from the emergency fund value.)"
   ]
  },
  {
   "cell_type": "code",
   "execution_count": 31,
   "metadata": {},
   "outputs": [
    {
     "name": "stdout",
     "output_type": "stream",
     "text": [
      "Congratulations, you have enough money!\n"
     ]
    }
   ],
   "source": [
    "# Evaluate the possibility of creating an emergency fund with 3 conditions:\n",
    "if total_portfolio > emergency_fund_value:\n",
    "    print('Congratulations, you have enough money!')\n",
    "elif total_portfolio == emergency_fund_value:\n",
    "    print('Congratualtions, you\\'ve met your financial goal!')\n",
    "else:\n",
    "    print(f'Total Portfolio is less than Emergency Fund. You are currently ${emergency_fund_value - total_portfolio} away from reaching your goal.')"
   ]
  },
  {
   "cell_type": "markdown",
   "metadata": {},
   "source": [
    "## Part 2: Create a Financial Planner for Retirement"
   ]
  },
  {
   "cell_type": "markdown",
   "metadata": {},
   "source": [
    "### Create the Monte Carlo Simulation\n",
    "\n",
    "In this section, you’ll use the MCForecastTools library to create a Monte Carlo simulation for the member’s savings portfolio. To do this, complete the following steps:\n",
    "\n",
    "1. Make an API call via the Alpaca SDK to get 3 years of historical closing prices for a traditional 60/40 portfolio split: 60% stocks (SPY) and 40% bonds (AGG).\n",
    "\n",
    "2. Run a Monte Carlo simulation of 500 samples and 30 years for the 60/40 portfolio, and then plot the results.The following image shows the overlay line plot resulting from a simulation with these characteristics. However, because a random number generator is used to run each live Monte Carlo simulation, your image will differ slightly from this exact image:\n",
    "\n",
    "![A screenshot depicts the resulting plot.](Images/5-4-monte-carlo-line-plot.png)\n",
    "\n",
    "3. Plot the probability distribution of the Monte Carlo simulation. Plot the probability distribution of the Monte Carlo simulation. The following image shows the histogram plot resulting from a simulation with these characteristics. However, because a random number generator is used to run each live Monte Carlo simulation, your image will differ slightly from this exact image:\n",
    "\n",
    "![A screenshot depicts the histogram plot.](Images/5-4-monte-carlo-histogram.png)\n",
    "\n",
    "4. Generate the summary statistics for the Monte Carlo simulation.\n",
    "\n"
   ]
  },
  {
   "cell_type": "markdown",
   "metadata": {},
   "source": [
    "#### Step 1: Make an API call via the Alpaca SDK to get 3 years of historical closing prices for a traditional 60/40 portfolio split: 60% stocks (SPY) and 40% bonds (AGG)."
   ]
  },
  {
   "cell_type": "code",
   "execution_count": 32,
   "metadata": {},
   "outputs": [],
   "source": [
    "# Set start and end dates of 3 years back from your current date\n",
    "# Alternatively, you can use an end date of 2020-08-07 and work 3 years back from that date \n",
    "start_date = pd.Timestamp('2019-04-25', tz='America/New_York').isoformat()\n",
    "end_date = pd.Timestamp('2022-04-25', tz='America/New_York').isoformat()\n",
    "\n",
    "# Set number of rows to 1000 to retrieve the maximum amount of rows\n",
    "limit = 1000"
   ]
  },
  {
   "cell_type": "code",
   "execution_count": 34,
   "metadata": {},
   "outputs": [
    {
     "data": {
      "text/html": [
       "<div>\n",
       "<style scoped>\n",
       "    .dataframe tbody tr th:only-of-type {\n",
       "        vertical-align: middle;\n",
       "    }\n",
       "\n",
       "    .dataframe tbody tr th {\n",
       "        vertical-align: top;\n",
       "    }\n",
       "\n",
       "    .dataframe thead tr th {\n",
       "        text-align: left;\n",
       "    }\n",
       "\n",
       "    .dataframe thead tr:last-of-type th {\n",
       "        text-align: right;\n",
       "    }\n",
       "</style>\n",
       "<table border=\"1\" class=\"dataframe\">\n",
       "  <thead>\n",
       "    <tr>\n",
       "      <th></th>\n",
       "      <th colspan=\"7\" halign=\"left\">SPY</th>\n",
       "      <th colspan=\"7\" halign=\"left\">AGG</th>\n",
       "    </tr>\n",
       "    <tr>\n",
       "      <th></th>\n",
       "      <th>open</th>\n",
       "      <th>high</th>\n",
       "      <th>low</th>\n",
       "      <th>close</th>\n",
       "      <th>volume</th>\n",
       "      <th>trade_count</th>\n",
       "      <th>vwap</th>\n",
       "      <th>open</th>\n",
       "      <th>high</th>\n",
       "      <th>low</th>\n",
       "      <th>close</th>\n",
       "      <th>volume</th>\n",
       "      <th>trade_count</th>\n",
       "      <th>vwap</th>\n",
       "    </tr>\n",
       "    <tr>\n",
       "      <th>timestamp</th>\n",
       "      <th></th>\n",
       "      <th></th>\n",
       "      <th></th>\n",
       "      <th></th>\n",
       "      <th></th>\n",
       "      <th></th>\n",
       "      <th></th>\n",
       "      <th></th>\n",
       "      <th></th>\n",
       "      <th></th>\n",
       "      <th></th>\n",
       "      <th></th>\n",
       "      <th></th>\n",
       "      <th></th>\n",
       "    </tr>\n",
       "  </thead>\n",
       "  <tbody>\n",
       "    <tr>\n",
       "      <th>2019-04-25 04:00:00+00:00</th>\n",
       "      <td>292.12</td>\n",
       "      <td>292.78</td>\n",
       "      <td>290.7300</td>\n",
       "      <td>292.05</td>\n",
       "      <td>57875137</td>\n",
       "      <td>238260</td>\n",
       "      <td>292.051720</td>\n",
       "      <td>108.50</td>\n",
       "      <td>108.55</td>\n",
       "      <td>108.4200</td>\n",
       "      <td>108.49</td>\n",
       "      <td>2648150</td>\n",
       "      <td>9121</td>\n",
       "      <td>108.473969</td>\n",
       "    </tr>\n",
       "    <tr>\n",
       "      <th>2019-04-26 04:00:00+00:00</th>\n",
       "      <td>292.12</td>\n",
       "      <td>293.49</td>\n",
       "      <td>291.2401</td>\n",
       "      <td>293.41</td>\n",
       "      <td>51449173</td>\n",
       "      <td>220594</td>\n",
       "      <td>292.642502</td>\n",
       "      <td>108.74</td>\n",
       "      <td>108.75</td>\n",
       "      <td>108.6600</td>\n",
       "      <td>108.71</td>\n",
       "      <td>2300074</td>\n",
       "      <td>8664</td>\n",
       "      <td>108.705413</td>\n",
       "    </tr>\n",
       "    <tr>\n",
       "      <th>2019-04-29 04:00:00+00:00</th>\n",
       "      <td>293.53</td>\n",
       "      <td>294.45</td>\n",
       "      <td>293.4100</td>\n",
       "      <td>293.87</td>\n",
       "      <td>61675682</td>\n",
       "      <td>186857</td>\n",
       "      <td>293.871519</td>\n",
       "      <td>108.56</td>\n",
       "      <td>108.62</td>\n",
       "      <td>108.4900</td>\n",
       "      <td>108.52</td>\n",
       "      <td>2782634</td>\n",
       "      <td>8977</td>\n",
       "      <td>108.539174</td>\n",
       "    </tr>\n",
       "    <tr>\n",
       "      <th>2019-04-30 04:00:00+00:00</th>\n",
       "      <td>293.52</td>\n",
       "      <td>294.34</td>\n",
       "      <td>291.9200</td>\n",
       "      <td>294.02</td>\n",
       "      <td>81411933</td>\n",
       "      <td>254912</td>\n",
       "      <td>293.551590</td>\n",
       "      <td>108.56</td>\n",
       "      <td>108.68</td>\n",
       "      <td>108.5135</td>\n",
       "      <td>108.59</td>\n",
       "      <td>7491505</td>\n",
       "      <td>17892</td>\n",
       "      <td>108.620462</td>\n",
       "    </tr>\n",
       "    <tr>\n",
       "      <th>2019-05-01 04:00:00+00:00</th>\n",
       "      <td>294.76</td>\n",
       "      <td>294.95</td>\n",
       "      <td>291.8000</td>\n",
       "      <td>291.81</td>\n",
       "      <td>71921870</td>\n",
       "      <td>337374</td>\n",
       "      <td>293.457138</td>\n",
       "      <td>108.47</td>\n",
       "      <td>108.76</td>\n",
       "      <td>108.3200</td>\n",
       "      <td>108.40</td>\n",
       "      <td>6387911</td>\n",
       "      <td>23490</td>\n",
       "      <td>108.455634</td>\n",
       "    </tr>\n",
       "  </tbody>\n",
       "</table>\n",
       "</div>"
      ],
      "text/plain": [
       "                              SPY                                      \\\n",
       "                             open    high       low   close    volume   \n",
       "timestamp                                                               \n",
       "2019-04-25 04:00:00+00:00  292.12  292.78  290.7300  292.05  57875137   \n",
       "2019-04-26 04:00:00+00:00  292.12  293.49  291.2401  293.41  51449173   \n",
       "2019-04-29 04:00:00+00:00  293.53  294.45  293.4100  293.87  61675682   \n",
       "2019-04-30 04:00:00+00:00  293.52  294.34  291.9200  294.02  81411933   \n",
       "2019-05-01 04:00:00+00:00  294.76  294.95  291.8000  291.81  71921870   \n",
       "\n",
       "                                                      AGG                    \\\n",
       "                          trade_count        vwap    open    high       low   \n",
       "timestamp                                                                     \n",
       "2019-04-25 04:00:00+00:00      238260  292.051720  108.50  108.55  108.4200   \n",
       "2019-04-26 04:00:00+00:00      220594  292.642502  108.74  108.75  108.6600   \n",
       "2019-04-29 04:00:00+00:00      186857  293.871519  108.56  108.62  108.4900   \n",
       "2019-04-30 04:00:00+00:00      254912  293.551590  108.56  108.68  108.5135   \n",
       "2019-05-01 04:00:00+00:00      337374  293.457138  108.47  108.76  108.3200   \n",
       "\n",
       "                                                                    \n",
       "                            close   volume trade_count        vwap  \n",
       "timestamp                                                           \n",
       "2019-04-25 04:00:00+00:00  108.49  2648150        9121  108.473969  \n",
       "2019-04-26 04:00:00+00:00  108.71  2300074        8664  108.705413  \n",
       "2019-04-29 04:00:00+00:00  108.52  2782634        8977  108.539174  \n",
       "2019-04-30 04:00:00+00:00  108.59  7491505       17892  108.620462  \n",
       "2019-05-01 04:00:00+00:00  108.40  6387911       23490  108.455634  "
      ]
     },
     "metadata": {},
     "output_type": "display_data"
    },
    {
     "data": {
      "text/html": [
       "<div>\n",
       "<style scoped>\n",
       "    .dataframe tbody tr th:only-of-type {\n",
       "        vertical-align: middle;\n",
       "    }\n",
       "\n",
       "    .dataframe tbody tr th {\n",
       "        vertical-align: top;\n",
       "    }\n",
       "\n",
       "    .dataframe thead tr th {\n",
       "        text-align: left;\n",
       "    }\n",
       "\n",
       "    .dataframe thead tr:last-of-type th {\n",
       "        text-align: right;\n",
       "    }\n",
       "</style>\n",
       "<table border=\"1\" class=\"dataframe\">\n",
       "  <thead>\n",
       "    <tr>\n",
       "      <th></th>\n",
       "      <th colspan=\"7\" halign=\"left\">SPY</th>\n",
       "      <th colspan=\"7\" halign=\"left\">AGG</th>\n",
       "    </tr>\n",
       "    <tr>\n",
       "      <th></th>\n",
       "      <th>open</th>\n",
       "      <th>high</th>\n",
       "      <th>low</th>\n",
       "      <th>close</th>\n",
       "      <th>volume</th>\n",
       "      <th>trade_count</th>\n",
       "      <th>vwap</th>\n",
       "      <th>open</th>\n",
       "      <th>high</th>\n",
       "      <th>low</th>\n",
       "      <th>close</th>\n",
       "      <th>volume</th>\n",
       "      <th>trade_count</th>\n",
       "      <th>vwap</th>\n",
       "    </tr>\n",
       "    <tr>\n",
       "      <th>timestamp</th>\n",
       "      <th></th>\n",
       "      <th></th>\n",
       "      <th></th>\n",
       "      <th></th>\n",
       "      <th></th>\n",
       "      <th></th>\n",
       "      <th></th>\n",
       "      <th></th>\n",
       "      <th></th>\n",
       "      <th></th>\n",
       "      <th></th>\n",
       "      <th></th>\n",
       "      <th></th>\n",
       "      <th></th>\n",
       "    </tr>\n",
       "  </thead>\n",
       "  <tbody>\n",
       "    <tr>\n",
       "      <th>2022-04-19 04:00:00+00:00</th>\n",
       "      <td>437.87</td>\n",
       "      <td>445.8000</td>\n",
       "      <td>437.68</td>\n",
       "      <td>445.04</td>\n",
       "      <td>77678099</td>\n",
       "      <td>597840</td>\n",
       "      <td>443.072191</td>\n",
       "      <td>103.26</td>\n",
       "      <td>103.4264</td>\n",
       "      <td>102.974</td>\n",
       "      <td>103.02</td>\n",
       "      <td>7845969</td>\n",
       "      <td>32656</td>\n",
       "      <td>103.193615</td>\n",
       "    </tr>\n",
       "    <tr>\n",
       "      <th>2022-04-20 04:00:00+00:00</th>\n",
       "      <td>446.95</td>\n",
       "      <td>447.5700</td>\n",
       "      <td>443.48</td>\n",
       "      <td>444.71</td>\n",
       "      <td>64737457</td>\n",
       "      <td>591762</td>\n",
       "      <td>445.610168</td>\n",
       "      <td>103.36</td>\n",
       "      <td>103.7356</td>\n",
       "      <td>103.300</td>\n",
       "      <td>103.61</td>\n",
       "      <td>8434303</td>\n",
       "      <td>32866</td>\n",
       "      <td>103.528935</td>\n",
       "    </tr>\n",
       "    <tr>\n",
       "      <th>2022-04-21 04:00:00+00:00</th>\n",
       "      <td>448.58</td>\n",
       "      <td>450.0100</td>\n",
       "      <td>437.10</td>\n",
       "      <td>438.06</td>\n",
       "      <td>85097110</td>\n",
       "      <td>719682</td>\n",
       "      <td>442.772969</td>\n",
       "      <td>103.44</td>\n",
       "      <td>103.4700</td>\n",
       "      <td>102.790</td>\n",
       "      <td>103.04</td>\n",
       "      <td>11393860</td>\n",
       "      <td>35595</td>\n",
       "      <td>103.047589</td>\n",
       "    </tr>\n",
       "    <tr>\n",
       "      <th>2022-04-22 04:00:00+00:00</th>\n",
       "      <td>436.94</td>\n",
       "      <td>438.0825</td>\n",
       "      <td>425.44</td>\n",
       "      <td>426.04</td>\n",
       "      <td>132156403</td>\n",
       "      <td>972064</td>\n",
       "      <td>429.813156</td>\n",
       "      <td>102.73</td>\n",
       "      <td>103.1800</td>\n",
       "      <td>102.670</td>\n",
       "      <td>102.94</td>\n",
       "      <td>9152665</td>\n",
       "      <td>31498</td>\n",
       "      <td>102.925863</td>\n",
       "    </tr>\n",
       "    <tr>\n",
       "      <th>2022-04-25 04:00:00+00:00</th>\n",
       "      <td>423.70</td>\n",
       "      <td>428.6900</td>\n",
       "      <td>418.84</td>\n",
       "      <td>428.51</td>\n",
       "      <td>119103454</td>\n",
       "      <td>1139830</td>\n",
       "      <td>423.952513</td>\n",
       "      <td>103.47</td>\n",
       "      <td>103.9300</td>\n",
       "      <td>103.470</td>\n",
       "      <td>103.63</td>\n",
       "      <td>8768318</td>\n",
       "      <td>31373</td>\n",
       "      <td>103.691097</td>\n",
       "    </tr>\n",
       "  </tbody>\n",
       "</table>\n",
       "</div>"
      ],
      "text/plain": [
       "                              SPY                                       \\\n",
       "                             open      high     low   close     volume   \n",
       "timestamp                                                                \n",
       "2022-04-19 04:00:00+00:00  437.87  445.8000  437.68  445.04   77678099   \n",
       "2022-04-20 04:00:00+00:00  446.95  447.5700  443.48  444.71   64737457   \n",
       "2022-04-21 04:00:00+00:00  448.58  450.0100  437.10  438.06   85097110   \n",
       "2022-04-22 04:00:00+00:00  436.94  438.0825  425.44  426.04  132156403   \n",
       "2022-04-25 04:00:00+00:00  423.70  428.6900  418.84  428.51  119103454   \n",
       "\n",
       "                                                      AGG                     \\\n",
       "                          trade_count        vwap    open      high      low   \n",
       "timestamp                                                                      \n",
       "2022-04-19 04:00:00+00:00      597840  443.072191  103.26  103.4264  102.974   \n",
       "2022-04-20 04:00:00+00:00      591762  445.610168  103.36  103.7356  103.300   \n",
       "2022-04-21 04:00:00+00:00      719682  442.772969  103.44  103.4700  102.790   \n",
       "2022-04-22 04:00:00+00:00      972064  429.813156  102.73  103.1800  102.670   \n",
       "2022-04-25 04:00:00+00:00     1139830  423.952513  103.47  103.9300  103.470   \n",
       "\n",
       "                                                                     \n",
       "                            close    volume trade_count        vwap  \n",
       "timestamp                                                            \n",
       "2022-04-19 04:00:00+00:00  103.02   7845969       32656  103.193615  \n",
       "2022-04-20 04:00:00+00:00  103.61   8434303       32866  103.528935  \n",
       "2022-04-21 04:00:00+00:00  103.04  11393860       35595  103.047589  \n",
       "2022-04-22 04:00:00+00:00  102.94   9152665       31498  102.925863  \n",
       "2022-04-25 04:00:00+00:00  103.63   8768318       31373  103.691097  "
      ]
     },
     "metadata": {},
     "output_type": "display_data"
    }
   ],
   "source": [
    "# Use the Alpaca get_bars function to make the API call to get the 3 years worth of pricing data\n",
    "# The tickers and timeframe parameters should have been set in Part 1 of this activity \n",
    "# The start and end dates should be updated with the information set above\n",
    "# Remember to add the df property to the end of the call so the response is returned as a DataFrame\n",
    "historical_pricing_3years_df = alpaca.get_bars(\n",
    "    tickers,\n",
    "    timeframe,\n",
    "    start = start_date,\n",
    "    end = end_date\n",
    ").df\n",
    "\n",
    "# Reorganize the DataFrame\n",
    "# Separate ticker data\n",
    "SPY = historical_pricing_3years_df[historical_pricing_3years_df['symbol']=='SPY'].drop('symbol', axis=1)\n",
    "AGG = historical_pricing_3years_df[historical_pricing_3years_df['symbol']=='AGG'].drop('symbol', axis=1)\n",
    "# Concatenate the ticker DataFrames\n",
    "historical_pricing_3years_df = pd.concat([SPY, AGG], axis=1, keys=['SPY','AGG'])\n",
    "\n",
    "# Display both the first and last five rows of the DataFrame\n",
    "display(historical_pricing_3years_df.head())\n",
    "display(historical_pricing_3years_df.tail())"
   ]
  },
  {
   "cell_type": "markdown",
   "metadata": {},
   "source": [
    "#### Step 2: Run a Monte Carlo simulation of 500 samples and 30 years for the 60/40 portfolio, and then plot the results."
   ]
  },
  {
   "cell_type": "code",
   "execution_count": 35,
   "metadata": {},
   "outputs": [
    {
     "data": {
      "text/html": [
       "<div>\n",
       "<style scoped>\n",
       "    .dataframe tbody tr th:only-of-type {\n",
       "        vertical-align: middle;\n",
       "    }\n",
       "\n",
       "    .dataframe tbody tr th {\n",
       "        vertical-align: top;\n",
       "    }\n",
       "\n",
       "    .dataframe thead tr th {\n",
       "        text-align: left;\n",
       "    }\n",
       "\n",
       "    .dataframe thead tr:last-of-type th {\n",
       "        text-align: right;\n",
       "    }\n",
       "</style>\n",
       "<table border=\"1\" class=\"dataframe\">\n",
       "  <thead>\n",
       "    <tr>\n",
       "      <th></th>\n",
       "      <th colspan=\"8\" halign=\"left\">SPY</th>\n",
       "      <th colspan=\"8\" halign=\"left\">AGG</th>\n",
       "    </tr>\n",
       "    <tr>\n",
       "      <th></th>\n",
       "      <th>open</th>\n",
       "      <th>high</th>\n",
       "      <th>low</th>\n",
       "      <th>close</th>\n",
       "      <th>volume</th>\n",
       "      <th>trade_count</th>\n",
       "      <th>vwap</th>\n",
       "      <th>daily_return</th>\n",
       "      <th>open</th>\n",
       "      <th>high</th>\n",
       "      <th>low</th>\n",
       "      <th>close</th>\n",
       "      <th>volume</th>\n",
       "      <th>trade_count</th>\n",
       "      <th>vwap</th>\n",
       "      <th>daily_return</th>\n",
       "    </tr>\n",
       "    <tr>\n",
       "      <th>timestamp</th>\n",
       "      <th></th>\n",
       "      <th></th>\n",
       "      <th></th>\n",
       "      <th></th>\n",
       "      <th></th>\n",
       "      <th></th>\n",
       "      <th></th>\n",
       "      <th></th>\n",
       "      <th></th>\n",
       "      <th></th>\n",
       "      <th></th>\n",
       "      <th></th>\n",
       "      <th></th>\n",
       "      <th></th>\n",
       "      <th></th>\n",
       "      <th></th>\n",
       "    </tr>\n",
       "  </thead>\n",
       "  <tbody>\n",
       "    <tr>\n",
       "      <th>2019-04-25 04:00:00+00:00</th>\n",
       "      <td>292.12</td>\n",
       "      <td>292.78</td>\n",
       "      <td>290.7300</td>\n",
       "      <td>292.05</td>\n",
       "      <td>57875137</td>\n",
       "      <td>238260</td>\n",
       "      <td>292.051720</td>\n",
       "      <td>NaN</td>\n",
       "      <td>108.50</td>\n",
       "      <td>108.55</td>\n",
       "      <td>108.4200</td>\n",
       "      <td>108.49</td>\n",
       "      <td>2648150</td>\n",
       "      <td>9121</td>\n",
       "      <td>108.473969</td>\n",
       "      <td>NaN</td>\n",
       "    </tr>\n",
       "    <tr>\n",
       "      <th>2019-04-26 04:00:00+00:00</th>\n",
       "      <td>292.12</td>\n",
       "      <td>293.49</td>\n",
       "      <td>291.2401</td>\n",
       "      <td>293.41</td>\n",
       "      <td>51449173</td>\n",
       "      <td>220594</td>\n",
       "      <td>292.642502</td>\n",
       "      <td>0.004657</td>\n",
       "      <td>108.74</td>\n",
       "      <td>108.75</td>\n",
       "      <td>108.6600</td>\n",
       "      <td>108.71</td>\n",
       "      <td>2300074</td>\n",
       "      <td>8664</td>\n",
       "      <td>108.705413</td>\n",
       "      <td>0.002028</td>\n",
       "    </tr>\n",
       "    <tr>\n",
       "      <th>2019-04-29 04:00:00+00:00</th>\n",
       "      <td>293.53</td>\n",
       "      <td>294.45</td>\n",
       "      <td>293.4100</td>\n",
       "      <td>293.87</td>\n",
       "      <td>61675682</td>\n",
       "      <td>186857</td>\n",
       "      <td>293.871519</td>\n",
       "      <td>0.001568</td>\n",
       "      <td>108.56</td>\n",
       "      <td>108.62</td>\n",
       "      <td>108.4900</td>\n",
       "      <td>108.52</td>\n",
       "      <td>2782634</td>\n",
       "      <td>8977</td>\n",
       "      <td>108.539174</td>\n",
       "      <td>-0.001748</td>\n",
       "    </tr>\n",
       "    <tr>\n",
       "      <th>2019-04-30 04:00:00+00:00</th>\n",
       "      <td>293.52</td>\n",
       "      <td>294.34</td>\n",
       "      <td>291.9200</td>\n",
       "      <td>294.02</td>\n",
       "      <td>81411933</td>\n",
       "      <td>254912</td>\n",
       "      <td>293.551590</td>\n",
       "      <td>0.000510</td>\n",
       "      <td>108.56</td>\n",
       "      <td>108.68</td>\n",
       "      <td>108.5135</td>\n",
       "      <td>108.59</td>\n",
       "      <td>7491505</td>\n",
       "      <td>17892</td>\n",
       "      <td>108.620462</td>\n",
       "      <td>0.000645</td>\n",
       "    </tr>\n",
       "    <tr>\n",
       "      <th>2019-05-01 04:00:00+00:00</th>\n",
       "      <td>294.76</td>\n",
       "      <td>294.95</td>\n",
       "      <td>291.8000</td>\n",
       "      <td>291.81</td>\n",
       "      <td>71921870</td>\n",
       "      <td>337374</td>\n",
       "      <td>293.457138</td>\n",
       "      <td>-0.007516</td>\n",
       "      <td>108.47</td>\n",
       "      <td>108.76</td>\n",
       "      <td>108.3200</td>\n",
       "      <td>108.40</td>\n",
       "      <td>6387911</td>\n",
       "      <td>23490</td>\n",
       "      <td>108.455634</td>\n",
       "      <td>-0.001750</td>\n",
       "    </tr>\n",
       "  </tbody>\n",
       "</table>\n",
       "</div>"
      ],
      "text/plain": [
       "                              SPY                                      \\\n",
       "                             open    high       low   close    volume   \n",
       "timestamp                                                               \n",
       "2019-04-25 04:00:00+00:00  292.12  292.78  290.7300  292.05  57875137   \n",
       "2019-04-26 04:00:00+00:00  292.12  293.49  291.2401  293.41  51449173   \n",
       "2019-04-29 04:00:00+00:00  293.53  294.45  293.4100  293.87  61675682   \n",
       "2019-04-30 04:00:00+00:00  293.52  294.34  291.9200  294.02  81411933   \n",
       "2019-05-01 04:00:00+00:00  294.76  294.95  291.8000  291.81  71921870   \n",
       "\n",
       "                                                                   AGG  \\\n",
       "                          trade_count        vwap daily_return    open   \n",
       "timestamp                                                                \n",
       "2019-04-25 04:00:00+00:00      238260  292.051720          NaN  108.50   \n",
       "2019-04-26 04:00:00+00:00      220594  292.642502     0.004657  108.74   \n",
       "2019-04-29 04:00:00+00:00      186857  293.871519     0.001568  108.56   \n",
       "2019-04-30 04:00:00+00:00      254912  293.551590     0.000510  108.56   \n",
       "2019-05-01 04:00:00+00:00      337374  293.457138    -0.007516  108.47   \n",
       "\n",
       "                                                                          \\\n",
       "                             high       low   close   volume trade_count   \n",
       "timestamp                                                                  \n",
       "2019-04-25 04:00:00+00:00  108.55  108.4200  108.49  2648150        9121   \n",
       "2019-04-26 04:00:00+00:00  108.75  108.6600  108.71  2300074        8664   \n",
       "2019-04-29 04:00:00+00:00  108.62  108.4900  108.52  2782634        8977   \n",
       "2019-04-30 04:00:00+00:00  108.68  108.5135  108.59  7491505       17892   \n",
       "2019-05-01 04:00:00+00:00  108.76  108.3200  108.40  6387911       23490   \n",
       "\n",
       "                                                    \n",
       "                                 vwap daily_return  \n",
       "timestamp                                           \n",
       "2019-04-25 04:00:00+00:00  108.473969          NaN  \n",
       "2019-04-26 04:00:00+00:00  108.705413     0.002028  \n",
       "2019-04-29 04:00:00+00:00  108.539174    -0.001748  \n",
       "2019-04-30 04:00:00+00:00  108.620462     0.000645  \n",
       "2019-05-01 04:00:00+00:00  108.455634    -0.001750  "
      ]
     },
     "execution_count": 35,
     "metadata": {},
     "output_type": "execute_result"
    }
   ],
   "source": [
    "# Configure the Monte Carlo simulation to forecast 30 years cumulative returns\n",
    "# The weights should be split 40% to AGG and 60% to SPY.\n",
    "# Run 500 samples.\n",
    "MC_30year = MCSimulation(\n",
    "    portfolio_data = historical_pricing_3years_df, \n",
    "    weights = [.60, .40],\n",
    "    num_simulation = 500,\n",
    "    num_trading_days = 252*30\n",
    ")\n",
    "\n",
    "# Review the simulation input data\n",
    "MC_30year.portfolio_data.head()"
   ]
  },
  {
   "cell_type": "code",
   "execution_count": 36,
   "metadata": {},
   "outputs": [
    {
     "name": "stdout",
     "output_type": "stream",
     "text": [
      "Running Monte Carlo simulation number 0.\n",
      "Running Monte Carlo simulation number 10.\n",
      "Running Monte Carlo simulation number 20.\n",
      "Running Monte Carlo simulation number 30.\n",
      "Running Monte Carlo simulation number 40.\n",
      "Running Monte Carlo simulation number 50.\n",
      "Running Monte Carlo simulation number 60.\n",
      "Running Monte Carlo simulation number 70.\n",
      "Running Monte Carlo simulation number 80.\n",
      "Running Monte Carlo simulation number 90.\n",
      "Running Monte Carlo simulation number 100.\n"
     ]
    },
    {
     "name": "stderr",
     "output_type": "stream",
     "text": [
      "C:\\Users\\quint\\OneDrive\\Documents\\FinTech_Workspace\\financial_planning\\MCForecastTools.py:117: PerformanceWarning: DataFrame is highly fragmented.  This is usually the result of calling `frame.insert` many times, which has poor performance.  Consider joining all columns at once using pd.concat(axis=1) instead.  To get a de-fragmented frame, use `newframe = frame.copy()`\n",
      "  portfolio_cumulative_returns[n] = (1 + sim_df.fillna(0)).cumprod()\n"
     ]
    },
    {
     "name": "stdout",
     "output_type": "stream",
     "text": [
      "Running Monte Carlo simulation number 110.\n",
      "Running Monte Carlo simulation number 120.\n",
      "Running Monte Carlo simulation number 130.\n",
      "Running Monte Carlo simulation number 140.\n",
      "Running Monte Carlo simulation number 150.\n",
      "Running Monte Carlo simulation number 160.\n",
      "Running Monte Carlo simulation number 170.\n",
      "Running Monte Carlo simulation number 180.\n",
      "Running Monte Carlo simulation number 190.\n",
      "Running Monte Carlo simulation number 200.\n",
      "Running Monte Carlo simulation number 210.\n",
      "Running Monte Carlo simulation number 220.\n",
      "Running Monte Carlo simulation number 230.\n",
      "Running Monte Carlo simulation number 240.\n",
      "Running Monte Carlo simulation number 250.\n",
      "Running Monte Carlo simulation number 260.\n",
      "Running Monte Carlo simulation number 270.\n",
      "Running Monte Carlo simulation number 280.\n",
      "Running Monte Carlo simulation number 290.\n",
      "Running Monte Carlo simulation number 300.\n",
      "Running Monte Carlo simulation number 310.\n",
      "Running Monte Carlo simulation number 320.\n",
      "Running Monte Carlo simulation number 330.\n",
      "Running Monte Carlo simulation number 340.\n",
      "Running Monte Carlo simulation number 350.\n",
      "Running Monte Carlo simulation number 360.\n",
      "Running Monte Carlo simulation number 370.\n",
      "Running Monte Carlo simulation number 380.\n",
      "Running Monte Carlo simulation number 390.\n",
      "Running Monte Carlo simulation number 400.\n",
      "Running Monte Carlo simulation number 410.\n",
      "Running Monte Carlo simulation number 420.\n",
      "Running Monte Carlo simulation number 430.\n",
      "Running Monte Carlo simulation number 440.\n",
      "Running Monte Carlo simulation number 450.\n",
      "Running Monte Carlo simulation number 460.\n",
      "Running Monte Carlo simulation number 470.\n",
      "Running Monte Carlo simulation number 480.\n",
      "Running Monte Carlo simulation number 490.\n"
     ]
    },
    {
     "data": {
      "text/html": [
       "<div>\n",
       "<style scoped>\n",
       "    .dataframe tbody tr th:only-of-type {\n",
       "        vertical-align: middle;\n",
       "    }\n",
       "\n",
       "    .dataframe tbody tr th {\n",
       "        vertical-align: top;\n",
       "    }\n",
       "\n",
       "    .dataframe thead th {\n",
       "        text-align: right;\n",
       "    }\n",
       "</style>\n",
       "<table border=\"1\" class=\"dataframe\">\n",
       "  <thead>\n",
       "    <tr style=\"text-align: right;\">\n",
       "      <th></th>\n",
       "      <th>0</th>\n",
       "      <th>1</th>\n",
       "      <th>2</th>\n",
       "      <th>3</th>\n",
       "      <th>4</th>\n",
       "      <th>5</th>\n",
       "      <th>6</th>\n",
       "      <th>7</th>\n",
       "      <th>8</th>\n",
       "      <th>9</th>\n",
       "      <th>...</th>\n",
       "      <th>490</th>\n",
       "      <th>491</th>\n",
       "      <th>492</th>\n",
       "      <th>493</th>\n",
       "      <th>494</th>\n",
       "      <th>495</th>\n",
       "      <th>496</th>\n",
       "      <th>497</th>\n",
       "      <th>498</th>\n",
       "      <th>499</th>\n",
       "    </tr>\n",
       "  </thead>\n",
       "  <tbody>\n",
       "    <tr>\n",
       "      <th>0</th>\n",
       "      <td>1.000000</td>\n",
       "      <td>1.000000</td>\n",
       "      <td>1.000000</td>\n",
       "      <td>1.000000</td>\n",
       "      <td>1.000000</td>\n",
       "      <td>1.000000</td>\n",
       "      <td>1.000000</td>\n",
       "      <td>1.000000</td>\n",
       "      <td>1.000000</td>\n",
       "      <td>1.000000</td>\n",
       "      <td>...</td>\n",
       "      <td>1.000000</td>\n",
       "      <td>1.000000</td>\n",
       "      <td>1.000000</td>\n",
       "      <td>1.000000</td>\n",
       "      <td>1.000000</td>\n",
       "      <td>1.000000</td>\n",
       "      <td>1.000000</td>\n",
       "      <td>1.000000</td>\n",
       "      <td>1.000000</td>\n",
       "      <td>1.000000</td>\n",
       "    </tr>\n",
       "    <tr>\n",
       "      <th>1</th>\n",
       "      <td>0.998829</td>\n",
       "      <td>1.009415</td>\n",
       "      <td>0.992872</td>\n",
       "      <td>0.995565</td>\n",
       "      <td>1.009042</td>\n",
       "      <td>0.993364</td>\n",
       "      <td>0.990151</td>\n",
       "      <td>1.004291</td>\n",
       "      <td>1.000791</td>\n",
       "      <td>1.003452</td>\n",
       "      <td>...</td>\n",
       "      <td>1.000464</td>\n",
       "      <td>0.994142</td>\n",
       "      <td>1.000155</td>\n",
       "      <td>1.003496</td>\n",
       "      <td>0.998514</td>\n",
       "      <td>1.004450</td>\n",
       "      <td>1.000754</td>\n",
       "      <td>1.006964</td>\n",
       "      <td>0.992632</td>\n",
       "      <td>0.998805</td>\n",
       "    </tr>\n",
       "    <tr>\n",
       "      <th>2</th>\n",
       "      <td>0.997975</td>\n",
       "      <td>1.004213</td>\n",
       "      <td>1.002345</td>\n",
       "      <td>0.996247</td>\n",
       "      <td>1.007004</td>\n",
       "      <td>1.002200</td>\n",
       "      <td>0.984673</td>\n",
       "      <td>1.004168</td>\n",
       "      <td>1.004789</td>\n",
       "      <td>0.999335</td>\n",
       "      <td>...</td>\n",
       "      <td>0.994996</td>\n",
       "      <td>0.987086</td>\n",
       "      <td>1.005253</td>\n",
       "      <td>1.005508</td>\n",
       "      <td>1.007004</td>\n",
       "      <td>1.006194</td>\n",
       "      <td>1.003214</td>\n",
       "      <td>1.014575</td>\n",
       "      <td>0.991976</td>\n",
       "      <td>0.997151</td>\n",
       "    </tr>\n",
       "    <tr>\n",
       "      <th>3</th>\n",
       "      <td>0.998684</td>\n",
       "      <td>1.008804</td>\n",
       "      <td>0.998342</td>\n",
       "      <td>0.998262</td>\n",
       "      <td>1.011180</td>\n",
       "      <td>1.004993</td>\n",
       "      <td>0.982553</td>\n",
       "      <td>1.013750</td>\n",
       "      <td>0.990078</td>\n",
       "      <td>0.999642</td>\n",
       "      <td>...</td>\n",
       "      <td>0.992414</td>\n",
       "      <td>0.994938</td>\n",
       "      <td>0.999533</td>\n",
       "      <td>1.002058</td>\n",
       "      <td>0.994215</td>\n",
       "      <td>1.035269</td>\n",
       "      <td>0.996747</td>\n",
       "      <td>1.017591</td>\n",
       "      <td>0.992909</td>\n",
       "      <td>1.016344</td>\n",
       "    </tr>\n",
       "    <tr>\n",
       "      <th>4</th>\n",
       "      <td>0.999085</td>\n",
       "      <td>1.024054</td>\n",
       "      <td>0.993990</td>\n",
       "      <td>0.999609</td>\n",
       "      <td>1.006814</td>\n",
       "      <td>1.012881</td>\n",
       "      <td>0.987192</td>\n",
       "      <td>1.006134</td>\n",
       "      <td>0.991835</td>\n",
       "      <td>1.009827</td>\n",
       "      <td>...</td>\n",
       "      <td>0.993765</td>\n",
       "      <td>0.975652</td>\n",
       "      <td>1.003101</td>\n",
       "      <td>0.997767</td>\n",
       "      <td>0.981594</td>\n",
       "      <td>1.035572</td>\n",
       "      <td>0.985153</td>\n",
       "      <td>1.036005</td>\n",
       "      <td>0.986025</td>\n",
       "      <td>1.018801</td>\n",
       "    </tr>\n",
       "    <tr>\n",
       "      <th>...</th>\n",
       "      <td>...</td>\n",
       "      <td>...</td>\n",
       "      <td>...</td>\n",
       "      <td>...</td>\n",
       "      <td>...</td>\n",
       "      <td>...</td>\n",
       "      <td>...</td>\n",
       "      <td>...</td>\n",
       "      <td>...</td>\n",
       "      <td>...</td>\n",
       "      <td>...</td>\n",
       "      <td>...</td>\n",
       "      <td>...</td>\n",
       "      <td>...</td>\n",
       "      <td>...</td>\n",
       "      <td>...</td>\n",
       "      <td>...</td>\n",
       "      <td>...</td>\n",
       "      <td>...</td>\n",
       "      <td>...</td>\n",
       "      <td>...</td>\n",
       "    </tr>\n",
       "    <tr>\n",
       "      <th>7556</th>\n",
       "      <td>6.507260</td>\n",
       "      <td>9.488906</td>\n",
       "      <td>12.775501</td>\n",
       "      <td>34.792349</td>\n",
       "      <td>17.630265</td>\n",
       "      <td>3.105002</td>\n",
       "      <td>10.223709</td>\n",
       "      <td>21.308943</td>\n",
       "      <td>3.373110</td>\n",
       "      <td>9.521199</td>\n",
       "      <td>...</td>\n",
       "      <td>8.898878</td>\n",
       "      <td>20.220874</td>\n",
       "      <td>9.478968</td>\n",
       "      <td>19.585343</td>\n",
       "      <td>9.201880</td>\n",
       "      <td>7.380802</td>\n",
       "      <td>15.784729</td>\n",
       "      <td>3.520231</td>\n",
       "      <td>14.900917</td>\n",
       "      <td>29.020341</td>\n",
       "    </tr>\n",
       "    <tr>\n",
       "      <th>7557</th>\n",
       "      <td>6.572130</td>\n",
       "      <td>9.594742</td>\n",
       "      <td>12.687837</td>\n",
       "      <td>34.925843</td>\n",
       "      <td>17.626345</td>\n",
       "      <td>3.111666</td>\n",
       "      <td>10.473277</td>\n",
       "      <td>21.669004</td>\n",
       "      <td>3.354998</td>\n",
       "      <td>9.653580</td>\n",
       "      <td>...</td>\n",
       "      <td>8.787272</td>\n",
       "      <td>20.210706</td>\n",
       "      <td>9.687115</td>\n",
       "      <td>19.608151</td>\n",
       "      <td>9.390483</td>\n",
       "      <td>7.490201</td>\n",
       "      <td>15.704758</td>\n",
       "      <td>3.539645</td>\n",
       "      <td>14.944388</td>\n",
       "      <td>29.262722</td>\n",
       "    </tr>\n",
       "    <tr>\n",
       "      <th>7558</th>\n",
       "      <td>6.571100</td>\n",
       "      <td>9.704268</td>\n",
       "      <td>12.852219</td>\n",
       "      <td>35.125208</td>\n",
       "      <td>17.499277</td>\n",
       "      <td>3.129296</td>\n",
       "      <td>10.490843</td>\n",
       "      <td>21.491260</td>\n",
       "      <td>3.310322</td>\n",
       "      <td>9.671719</td>\n",
       "      <td>...</td>\n",
       "      <td>8.692018</td>\n",
       "      <td>20.244390</td>\n",
       "      <td>9.755403</td>\n",
       "      <td>19.743799</td>\n",
       "      <td>9.457255</td>\n",
       "      <td>7.460377</td>\n",
       "      <td>15.744469</td>\n",
       "      <td>3.500939</td>\n",
       "      <td>14.848565</td>\n",
       "      <td>29.466706</td>\n",
       "    </tr>\n",
       "    <tr>\n",
       "      <th>7559</th>\n",
       "      <td>6.615001</td>\n",
       "      <td>9.671292</td>\n",
       "      <td>12.866828</td>\n",
       "      <td>35.101744</td>\n",
       "      <td>17.575713</td>\n",
       "      <td>3.171986</td>\n",
       "      <td>10.618037</td>\n",
       "      <td>21.322545</td>\n",
       "      <td>3.304351</td>\n",
       "      <td>9.633281</td>\n",
       "      <td>...</td>\n",
       "      <td>8.719772</td>\n",
       "      <td>19.930401</td>\n",
       "      <td>9.737862</td>\n",
       "      <td>19.928603</td>\n",
       "      <td>9.512817</td>\n",
       "      <td>7.327794</td>\n",
       "      <td>15.771308</td>\n",
       "      <td>3.574127</td>\n",
       "      <td>14.873070</td>\n",
       "      <td>29.219839</td>\n",
       "    </tr>\n",
       "    <tr>\n",
       "      <th>7560</th>\n",
       "      <td>6.642888</td>\n",
       "      <td>9.726372</td>\n",
       "      <td>13.064853</td>\n",
       "      <td>35.203394</td>\n",
       "      <td>17.486232</td>\n",
       "      <td>3.167009</td>\n",
       "      <td>10.545420</td>\n",
       "      <td>21.556845</td>\n",
       "      <td>3.289820</td>\n",
       "      <td>9.664848</td>\n",
       "      <td>...</td>\n",
       "      <td>8.755572</td>\n",
       "      <td>19.969613</td>\n",
       "      <td>9.750244</td>\n",
       "      <td>20.074822</td>\n",
       "      <td>9.615738</td>\n",
       "      <td>7.336580</td>\n",
       "      <td>15.947169</td>\n",
       "      <td>3.577523</td>\n",
       "      <td>14.772914</td>\n",
       "      <td>28.865090</td>\n",
       "    </tr>\n",
       "  </tbody>\n",
       "</table>\n",
       "<p>7561 rows × 500 columns</p>\n",
       "</div>"
      ],
      "text/plain": [
       "           0         1          2          3          4         5    \\\n",
       "0     1.000000  1.000000   1.000000   1.000000   1.000000  1.000000   \n",
       "1     0.998829  1.009415   0.992872   0.995565   1.009042  0.993364   \n",
       "2     0.997975  1.004213   1.002345   0.996247   1.007004  1.002200   \n",
       "3     0.998684  1.008804   0.998342   0.998262   1.011180  1.004993   \n",
       "4     0.999085  1.024054   0.993990   0.999609   1.006814  1.012881   \n",
       "...        ...       ...        ...        ...        ...       ...   \n",
       "7556  6.507260  9.488906  12.775501  34.792349  17.630265  3.105002   \n",
       "7557  6.572130  9.594742  12.687837  34.925843  17.626345  3.111666   \n",
       "7558  6.571100  9.704268  12.852219  35.125208  17.499277  3.129296   \n",
       "7559  6.615001  9.671292  12.866828  35.101744  17.575713  3.171986   \n",
       "7560  6.642888  9.726372  13.064853  35.203394  17.486232  3.167009   \n",
       "\n",
       "            6          7         8         9    ...       490        491  \\\n",
       "0      1.000000   1.000000  1.000000  1.000000  ...  1.000000   1.000000   \n",
       "1      0.990151   1.004291  1.000791  1.003452  ...  1.000464   0.994142   \n",
       "2      0.984673   1.004168  1.004789  0.999335  ...  0.994996   0.987086   \n",
       "3      0.982553   1.013750  0.990078  0.999642  ...  0.992414   0.994938   \n",
       "4      0.987192   1.006134  0.991835  1.009827  ...  0.993765   0.975652   \n",
       "...         ...        ...       ...       ...  ...       ...        ...   \n",
       "7556  10.223709  21.308943  3.373110  9.521199  ...  8.898878  20.220874   \n",
       "7557  10.473277  21.669004  3.354998  9.653580  ...  8.787272  20.210706   \n",
       "7558  10.490843  21.491260  3.310322  9.671719  ...  8.692018  20.244390   \n",
       "7559  10.618037  21.322545  3.304351  9.633281  ...  8.719772  19.930401   \n",
       "7560  10.545420  21.556845  3.289820  9.664848  ...  8.755572  19.969613   \n",
       "\n",
       "           492        493       494       495        496       497        498  \\\n",
       "0     1.000000   1.000000  1.000000  1.000000   1.000000  1.000000   1.000000   \n",
       "1     1.000155   1.003496  0.998514  1.004450   1.000754  1.006964   0.992632   \n",
       "2     1.005253   1.005508  1.007004  1.006194   1.003214  1.014575   0.991976   \n",
       "3     0.999533   1.002058  0.994215  1.035269   0.996747  1.017591   0.992909   \n",
       "4     1.003101   0.997767  0.981594  1.035572   0.985153  1.036005   0.986025   \n",
       "...        ...        ...       ...       ...        ...       ...        ...   \n",
       "7556  9.478968  19.585343  9.201880  7.380802  15.784729  3.520231  14.900917   \n",
       "7557  9.687115  19.608151  9.390483  7.490201  15.704758  3.539645  14.944388   \n",
       "7558  9.755403  19.743799  9.457255  7.460377  15.744469  3.500939  14.848565   \n",
       "7559  9.737862  19.928603  9.512817  7.327794  15.771308  3.574127  14.873070   \n",
       "7560  9.750244  20.074822  9.615738  7.336580  15.947169  3.577523  14.772914   \n",
       "\n",
       "            499  \n",
       "0      1.000000  \n",
       "1      0.998805  \n",
       "2      0.997151  \n",
       "3      1.016344  \n",
       "4      1.018801  \n",
       "...         ...  \n",
       "7556  29.020341  \n",
       "7557  29.262722  \n",
       "7558  29.466706  \n",
       "7559  29.219839  \n",
       "7560  28.865090  \n",
       "\n",
       "[7561 rows x 500 columns]"
      ]
     },
     "execution_count": 36,
     "metadata": {},
     "output_type": "execute_result"
    }
   ],
   "source": [
    "# Run the Monte Carlo simulation to forecast 30 years cumulative returns\n",
    "MC_30year.calc_cumulative_return()"
   ]
  },
  {
   "cell_type": "code",
   "execution_count": 37,
   "metadata": {},
   "outputs": [
    {
     "data": {
      "text/plain": [
       "<AxesSubplot:title={'center':'500 Simulations of Cumulative Portfolio Return Trajectories Over the Next 7560 Trading Days.'}>"
      ]
     },
     "execution_count": 37,
     "metadata": {},
     "output_type": "execute_result"
    },
    {
     "data": {
      "image/png": "[encoded data removed]",
      "text/plain": [
       "<Figure size 432x288 with 1 Axes>"
      ]
     },
     "metadata": {
      "needs_background": "light"
     },
     "output_type": "display_data"
    }
   ],
   "source": [
    "# Visualize the 30-year Monte Carlo simulation by creating an\n",
    "# overlay line plot\n",
    "MC_sim_line_plot = MC_30year.plot_simulation()\n",
    "MC_sim_line_plot"
   ]
  },
  {
   "cell_type": "markdown",
   "metadata": {},
   "source": [
    "#### Step 3: Plot the probability distribution of the Monte Carlo simulation."
   ]
  },
  {
   "cell_type": "code",
   "execution_count": 38,
   "metadata": {},
   "outputs": [
    {
     "data": {
      "text/plain": [
       "<AxesSubplot:title={'center':'Distribution of Final Cumuluative Returns Across All 500 Simulations'}, ylabel='Frequency'>"
      ]
     },
     "execution_count": 38,
     "metadata": {},
     "output_type": "execute_result"
    },
    {
     "data": {
      "image/png": "[encoded data removed]",
      "text/plain": [
       "<Figure size 432x288 with 1 Axes>"
      ]
     },
     "metadata": {
      "needs_background": "light"
     },
     "output_type": "display_data"
    }
   ],
   "source": [
    "# Visualize the probability distribution of the 30-year Monte Carlo simulation \n",
    "# by plotting a histogram\n",
    "MC_sim_dist_plot = MC_30year.plot_distribution()\n",
    "MC_sim_dist_plot"
   ]
  },
  {
   "cell_type": "markdown",
   "metadata": {},
   "source": [
    "#### Step 4: Generate the summary statistics for the Monte Carlo simulation."
   ]
  },
  {
   "cell_type": "code",
   "execution_count": 39,
   "metadata": {},
   "outputs": [
    {
     "data": {
      "text/plain": [
       "count           500.000000\n",
       "mean             13.957004\n",
       "std              13.756951\n",
       "min               1.352393\n",
       "25%               6.293152\n",
       "50%              10.473372\n",
       "75%              16.754664\n",
       "max             149.197868\n",
       "95% CI Lower      2.246104\n",
       "95% CI Upper     45.869121\n",
       "Name: 7560, dtype: float64"
      ]
     },
     "execution_count": 39,
     "metadata": {},
     "output_type": "execute_result"
    }
   ],
   "source": [
    "# Generate summary statistics from the 30-year Monte Carlo simulation results\n",
    "# Save the results as a variable\n",
    "MC_summary_stats = MC_30year.summarize_cumulative_return()\n",
    "\n",
    "# Review the 30-year Monte Carlo summary statistics\n",
    "MC_summary_stats"
   ]
  },
  {
   "cell_type": "markdown",
   "metadata": {},
   "source": [
    "### Analyze the Retirement Portfolio Forecasts\n",
    "\n",
    "Using the current value of only the stock and bond portion of the member's portfolio and the summary statistics that you generated from the Monte Carlo simulation, answer the following question in your Jupyter notebook:\n",
    "\n",
    "-  What are the lower and upper bounds for the expected value of the portfolio with a 95% confidence interval?\n"
   ]
  },
  {
   "cell_type": "code",
   "execution_count": 40,
   "metadata": {},
   "outputs": [
    {
     "data": {
      "text/plain": [
       "67862.1"
      ]
     },
     "execution_count": 40,
     "metadata": {},
     "output_type": "execute_result"
    }
   ],
   "source": [
    "# Print the current balance of the stock and bond portion of the members portfolio\n",
    "total_stocks_bonds"
   ]
  },
  {
   "cell_type": "code",
   "execution_count": 42,
   "metadata": {},
   "outputs": [
    {
     "name": "stdout",
     "output_type": "stream",
     "text": [
      "152425.32\n"
     ]
    },
    {
     "data": {
      "text/plain": [
       "3112774.84"
      ]
     },
     "metadata": {},
     "output_type": "display_data"
    }
   ],
   "source": [
    "# Use the lower and upper `95%` confidence intervals to calculate the range of the possible outcomes for the current stock/bond portfolio\n",
    "ci_lower_thirty_cumulative_return = total_stocks_bonds * MC_summary_stats[8]\n",
    "ci_upper_thirty_cumulative_return = total_stocks_bonds * MC_summary_stats[9]\n",
    "\n",
    "# Print the result of your calculations\n",
    "print(f'{ci_lower_thirty_cumulative_return:0.2f}')\n",
    "display(round(ci_upper_thirty_cumulative_return, 2))"
   ]
  },
  {
   "cell_type": "markdown",
   "metadata": {},
   "source": [
    "### Forecast Cumulative Returns in 10 Years\n",
    "\n",
    "The CTO of the credit union is impressed with your work on these planning tools but wonders if 30 years is a long time to wait until retirement. So, your next task is to adjust the retirement portfolio and run a new Monte Carlo simulation to find out if the changes will allow members to retire earlier.\n",
    "\n",
    "For this new Monte Carlo simulation, do the following: \n",
    "\n",
    "- Forecast the cumulative returns for 10 years from now. Because of the shortened investment horizon (30 years to 10 years), the portfolio needs to invest more heavily in the riskier asset&mdash;that is, stock&mdash;to help accumulate wealth for retirement. \n",
    "\n",
    "- Adjust the weights of the retirement portfolio so that the composition for the Monte Carlo simulation consists of 20% bonds and 80% stocks. \n",
    "\n",
    "- Run the simulation over 500 samples, and use the same data that the API call to Alpaca generated.\n",
    "\n",
    "- Based on the new Monte Carlo simulation, answer the following questions in your Jupyter notebook:\n",
    "\n",
    "    - Using the current value of only the stock and bond portion of the member's portfolio and the summary statistics that you generated from the new Monte Carlo simulation, what are the lower and upper bounds for the expected value of the portfolio (with the new weights) with a 95% confidence interval?\n",
    "\n",
    "    - Will weighting the portfolio more heavily toward stocks allow the credit union members to retire after only 10 years?\n"
   ]
  },
  {
   "cell_type": "code",
   "execution_count": 43,
   "metadata": {},
   "outputs": [
    {
     "data": {
      "text/html": [
       "<div>\n",
       "<style scoped>\n",
       "    .dataframe tbody tr th:only-of-type {\n",
       "        vertical-align: middle;\n",
       "    }\n",
       "\n",
       "    .dataframe tbody tr th {\n",
       "        vertical-align: top;\n",
       "    }\n",
       "\n",
       "    .dataframe thead tr th {\n",
       "        text-align: left;\n",
       "    }\n",
       "\n",
       "    .dataframe thead tr:last-of-type th {\n",
       "        text-align: right;\n",
       "    }\n",
       "</style>\n",
       "<table border=\"1\" class=\"dataframe\">\n",
       "  <thead>\n",
       "    <tr>\n",
       "      <th></th>\n",
       "      <th colspan=\"8\" halign=\"left\">SPY</th>\n",
       "      <th colspan=\"8\" halign=\"left\">AGG</th>\n",
       "    </tr>\n",
       "    <tr>\n",
       "      <th></th>\n",
       "      <th>open</th>\n",
       "      <th>high</th>\n",
       "      <th>low</th>\n",
       "      <th>close</th>\n",
       "      <th>volume</th>\n",
       "      <th>trade_count</th>\n",
       "      <th>vwap</th>\n",
       "      <th>daily_return</th>\n",
       "      <th>open</th>\n",
       "      <th>high</th>\n",
       "      <th>low</th>\n",
       "      <th>close</th>\n",
       "      <th>volume</th>\n",
       "      <th>trade_count</th>\n",
       "      <th>vwap</th>\n",
       "      <th>daily_return</th>\n",
       "    </tr>\n",
       "    <tr>\n",
       "      <th>timestamp</th>\n",
       "      <th></th>\n",
       "      <th></th>\n",
       "      <th></th>\n",
       "      <th></th>\n",
       "      <th></th>\n",
       "      <th></th>\n",
       "      <th></th>\n",
       "      <th></th>\n",
       "      <th></th>\n",
       "      <th></th>\n",
       "      <th></th>\n",
       "      <th></th>\n",
       "      <th></th>\n",
       "      <th></th>\n",
       "      <th></th>\n",
       "      <th></th>\n",
       "    </tr>\n",
       "  </thead>\n",
       "  <tbody>\n",
       "    <tr>\n",
       "      <th>2019-04-25 04:00:00+00:00</th>\n",
       "      <td>292.12</td>\n",
       "      <td>292.78</td>\n",
       "      <td>290.7300</td>\n",
       "      <td>292.05</td>\n",
       "      <td>57875137</td>\n",
       "      <td>238260</td>\n",
       "      <td>292.051720</td>\n",
       "      <td>NaN</td>\n",
       "      <td>108.50</td>\n",
       "      <td>108.55</td>\n",
       "      <td>108.4200</td>\n",
       "      <td>108.49</td>\n",
       "      <td>2648150</td>\n",
       "      <td>9121</td>\n",
       "      <td>108.473969</td>\n",
       "      <td>NaN</td>\n",
       "    </tr>\n",
       "    <tr>\n",
       "      <th>2019-04-26 04:00:00+00:00</th>\n",
       "      <td>292.12</td>\n",
       "      <td>293.49</td>\n",
       "      <td>291.2401</td>\n",
       "      <td>293.41</td>\n",
       "      <td>51449173</td>\n",
       "      <td>220594</td>\n",
       "      <td>292.642502</td>\n",
       "      <td>0.004657</td>\n",
       "      <td>108.74</td>\n",
       "      <td>108.75</td>\n",
       "      <td>108.6600</td>\n",
       "      <td>108.71</td>\n",
       "      <td>2300074</td>\n",
       "      <td>8664</td>\n",
       "      <td>108.705413</td>\n",
       "      <td>0.002028</td>\n",
       "    </tr>\n",
       "    <tr>\n",
       "      <th>2019-04-29 04:00:00+00:00</th>\n",
       "      <td>293.53</td>\n",
       "      <td>294.45</td>\n",
       "      <td>293.4100</td>\n",
       "      <td>293.87</td>\n",
       "      <td>61675682</td>\n",
       "      <td>186857</td>\n",
       "      <td>293.871519</td>\n",
       "      <td>0.001568</td>\n",
       "      <td>108.56</td>\n",
       "      <td>108.62</td>\n",
       "      <td>108.4900</td>\n",
       "      <td>108.52</td>\n",
       "      <td>2782634</td>\n",
       "      <td>8977</td>\n",
       "      <td>108.539174</td>\n",
       "      <td>-0.001748</td>\n",
       "    </tr>\n",
       "    <tr>\n",
       "      <th>2019-04-30 04:00:00+00:00</th>\n",
       "      <td>293.52</td>\n",
       "      <td>294.34</td>\n",
       "      <td>291.9200</td>\n",
       "      <td>294.02</td>\n",
       "      <td>81411933</td>\n",
       "      <td>254912</td>\n",
       "      <td>293.551590</td>\n",
       "      <td>0.000510</td>\n",
       "      <td>108.56</td>\n",
       "      <td>108.68</td>\n",
       "      <td>108.5135</td>\n",
       "      <td>108.59</td>\n",
       "      <td>7491505</td>\n",
       "      <td>17892</td>\n",
       "      <td>108.620462</td>\n",
       "      <td>0.000645</td>\n",
       "    </tr>\n",
       "    <tr>\n",
       "      <th>2019-05-01 04:00:00+00:00</th>\n",
       "      <td>294.76</td>\n",
       "      <td>294.95</td>\n",
       "      <td>291.8000</td>\n",
       "      <td>291.81</td>\n",
       "      <td>71921870</td>\n",
       "      <td>337374</td>\n",
       "      <td>293.457138</td>\n",
       "      <td>-0.007516</td>\n",
       "      <td>108.47</td>\n",
       "      <td>108.76</td>\n",
       "      <td>108.3200</td>\n",
       "      <td>108.40</td>\n",
       "      <td>6387911</td>\n",
       "      <td>23490</td>\n",
       "      <td>108.455634</td>\n",
       "      <td>-0.001750</td>\n",
       "    </tr>\n",
       "  </tbody>\n",
       "</table>\n",
       "</div>"
      ],
      "text/plain": [
       "                              SPY                                      \\\n",
       "                             open    high       low   close    volume   \n",
       "timestamp                                                               \n",
       "2019-04-25 04:00:00+00:00  292.12  292.78  290.7300  292.05  57875137   \n",
       "2019-04-26 04:00:00+00:00  292.12  293.49  291.2401  293.41  51449173   \n",
       "2019-04-29 04:00:00+00:00  293.53  294.45  293.4100  293.87  61675682   \n",
       "2019-04-30 04:00:00+00:00  293.52  294.34  291.9200  294.02  81411933   \n",
       "2019-05-01 04:00:00+00:00  294.76  294.95  291.8000  291.81  71921870   \n",
       "\n",
       "                                                                   AGG  \\\n",
       "                          trade_count        vwap daily_return    open   \n",
       "timestamp                                                                \n",
       "2019-04-25 04:00:00+00:00      238260  292.051720          NaN  108.50   \n",
       "2019-04-26 04:00:00+00:00      220594  292.642502     0.004657  108.74   \n",
       "2019-04-29 04:00:00+00:00      186857  293.871519     0.001568  108.56   \n",
       "2019-04-30 04:00:00+00:00      254912  293.551590     0.000510  108.56   \n",
       "2019-05-01 04:00:00+00:00      337374  293.457138    -0.007516  108.47   \n",
       "\n",
       "                                                                          \\\n",
       "                             high       low   close   volume trade_count   \n",
       "timestamp                                                                  \n",
       "2019-04-25 04:00:00+00:00  108.55  108.4200  108.49  2648150        9121   \n",
       "2019-04-26 04:00:00+00:00  108.75  108.6600  108.71  2300074        8664   \n",
       "2019-04-29 04:00:00+00:00  108.62  108.4900  108.52  2782634        8977   \n",
       "2019-04-30 04:00:00+00:00  108.68  108.5135  108.59  7491505       17892   \n",
       "2019-05-01 04:00:00+00:00  108.76  108.3200  108.40  6387911       23490   \n",
       "\n",
       "                                                    \n",
       "                                 vwap daily_return  \n",
       "timestamp                                           \n",
       "2019-04-25 04:00:00+00:00  108.473969          NaN  \n",
       "2019-04-26 04:00:00+00:00  108.705413     0.002028  \n",
       "2019-04-29 04:00:00+00:00  108.539174    -0.001748  \n",
       "2019-04-30 04:00:00+00:00  108.620462     0.000645  \n",
       "2019-05-01 04:00:00+00:00  108.455634    -0.001750  "
      ]
     },
     "execution_count": 43,
     "metadata": {},
     "output_type": "execute_result"
    }
   ],
   "source": [
    "# Configure a Monte Carlo simulation to forecast 10 years cumulative returns\n",
    "# The weights should be split 20% to AGG and 80% to SPY.\n",
    "# Run 500 samples.\n",
    "MC_10year = MCSimulation(\n",
    "    portfolio_data = historical_pricing_3years_df, \n",
    "    weights = [.80, .20],\n",
    "    num_simulation = 500,\n",
    "    num_trading_days = 252*10\n",
    ")\n",
    "\n",
    "# Review the simulation input data\n",
    "MC_10year.portfolio_data.head()"
   ]
  },
  {
   "cell_type": "code",
   "execution_count": 44,
   "metadata": {},
   "outputs": [
    {
     "name": "stdout",
     "output_type": "stream",
     "text": [
      "Running Monte Carlo simulation number 0.\n",
      "Running Monte Carlo simulation number 10.\n",
      "Running Monte Carlo simulation number 20.\n",
      "Running Monte Carlo simulation number 30.\n",
      "Running Monte Carlo simulation number 40.\n",
      "Running Monte Carlo simulation number 50.\n",
      "Running Monte Carlo simulation number 60.\n",
      "Running Monte Carlo simulation number 70.\n",
      "Running Monte Carlo simulation number 80.\n",
      "Running Monte Carlo simulation number 90.\n",
      "Running Monte Carlo simulation number 100.\n"
     ]
    },
    {
     "name": "stderr",
     "output_type": "stream",
     "text": [
      "C:\\Users\\quint\\OneDrive\\Documents\\FinTech_Workspace\\financial_planning\\MCForecastTools.py:117: PerformanceWarning: DataFrame is highly fragmented.  This is usually the result of calling `frame.insert` many times, which has poor performance.  Consider joining all columns at once using pd.concat(axis=1) instead.  To get a de-fragmented frame, use `newframe = frame.copy()`\n",
      "  portfolio_cumulative_returns[n] = (1 + sim_df.fillna(0)).cumprod()\n"
     ]
    },
    {
     "name": "stdout",
     "output_type": "stream",
     "text": [
      "Running Monte Carlo simulation number 110.\n",
      "Running Monte Carlo simulation number 120.\n",
      "Running Monte Carlo simulation number 130.\n",
      "Running Monte Carlo simulation number 140.\n",
      "Running Monte Carlo simulation number 150.\n",
      "Running Monte Carlo simulation number 160.\n",
      "Running Monte Carlo simulation number 170.\n",
      "Running Monte Carlo simulation number 180.\n",
      "Running Monte Carlo simulation number 190.\n",
      "Running Monte Carlo simulation number 200.\n",
      "Running Monte Carlo simulation number 210.\n",
      "Running Monte Carlo simulation number 220.\n",
      "Running Monte Carlo simulation number 230.\n",
      "Running Monte Carlo simulation number 240.\n",
      "Running Monte Carlo simulation number 250.\n",
      "Running Monte Carlo simulation number 260.\n",
      "Running Monte Carlo simulation number 270.\n",
      "Running Monte Carlo simulation number 280.\n",
      "Running Monte Carlo simulation number 290.\n",
      "Running Monte Carlo simulation number 300.\n",
      "Running Monte Carlo simulation number 310.\n",
      "Running Monte Carlo simulation number 320.\n",
      "Running Monte Carlo simulation number 330.\n",
      "Running Monte Carlo simulation number 340.\n",
      "Running Monte Carlo simulation number 350.\n",
      "Running Monte Carlo simulation number 360.\n",
      "Running Monte Carlo simulation number 370.\n",
      "Running Monte Carlo simulation number 380.\n",
      "Running Monte Carlo simulation number 390.\n",
      "Running Monte Carlo simulation number 400.\n",
      "Running Monte Carlo simulation number 410.\n",
      "Running Monte Carlo simulation number 420.\n",
      "Running Monte Carlo simulation number 430.\n",
      "Running Monte Carlo simulation number 440.\n",
      "Running Monte Carlo simulation number 450.\n",
      "Running Monte Carlo simulation number 460.\n",
      "Running Monte Carlo simulation number 470.\n",
      "Running Monte Carlo simulation number 480.\n",
      "Running Monte Carlo simulation number 490.\n"
     ]
    },
    {
     "data": {
      "text/html": [
       "<div>\n",
       "<style scoped>\n",
       "    .dataframe tbody tr th:only-of-type {\n",
       "        vertical-align: middle;\n",
       "    }\n",
       "\n",
       "    .dataframe tbody tr th {\n",
       "        vertical-align: top;\n",
       "    }\n",
       "\n",
       "    .dataframe thead th {\n",
       "        text-align: right;\n",
       "    }\n",
       "</style>\n",
       "<table border=\"1\" class=\"dataframe\">\n",
       "  <thead>\n",
       "    <tr style=\"text-align: right;\">\n",
       "      <th></th>\n",
       "      <th>0</th>\n",
       "      <th>1</th>\n",
       "      <th>2</th>\n",
       "      <th>3</th>\n",
       "      <th>4</th>\n",
       "      <th>5</th>\n",
       "      <th>6</th>\n",
       "      <th>7</th>\n",
       "      <th>8</th>\n",
       "      <th>9</th>\n",
       "      <th>...</th>\n",
       "      <th>490</th>\n",
       "      <th>491</th>\n",
       "      <th>492</th>\n",
       "      <th>493</th>\n",
       "      <th>494</th>\n",
       "      <th>495</th>\n",
       "      <th>496</th>\n",
       "      <th>497</th>\n",
       "      <th>498</th>\n",
       "      <th>499</th>\n",
       "    </tr>\n",
       "  </thead>\n",
       "  <tbody>\n",
       "    <tr>\n",
       "      <th>0</th>\n",
       "      <td>1.000000</td>\n",
       "      <td>1.000000</td>\n",
       "      <td>1.000000</td>\n",
       "      <td>1.000000</td>\n",
       "      <td>1.000000</td>\n",
       "      <td>1.000000</td>\n",
       "      <td>1.000000</td>\n",
       "      <td>1.000000</td>\n",
       "      <td>1.000000</td>\n",
       "      <td>1.000000</td>\n",
       "      <td>...</td>\n",
       "      <td>1.000000</td>\n",
       "      <td>1.000000</td>\n",
       "      <td>1.000000</td>\n",
       "      <td>1.000000</td>\n",
       "      <td>1.000000</td>\n",
       "      <td>1.000000</td>\n",
       "      <td>1.000000</td>\n",
       "      <td>1.000000</td>\n",
       "      <td>1.000000</td>\n",
       "      <td>1.000000</td>\n",
       "    </tr>\n",
       "    <tr>\n",
       "      <th>1</th>\n",
       "      <td>0.999451</td>\n",
       "      <td>1.007178</td>\n",
       "      <td>0.999338</td>\n",
       "      <td>1.011092</td>\n",
       "      <td>0.996795</td>\n",
       "      <td>1.015168</td>\n",
       "      <td>0.995006</td>\n",
       "      <td>1.003992</td>\n",
       "      <td>1.011563</td>\n",
       "      <td>0.996774</td>\n",
       "      <td>...</td>\n",
       "      <td>0.992608</td>\n",
       "      <td>0.986767</td>\n",
       "      <td>1.000179</td>\n",
       "      <td>0.990420</td>\n",
       "      <td>1.001119</td>\n",
       "      <td>0.994610</td>\n",
       "      <td>1.000477</td>\n",
       "      <td>1.002784</td>\n",
       "      <td>0.997543</td>\n",
       "      <td>1.017720</td>\n",
       "    </tr>\n",
       "    <tr>\n",
       "      <th>2</th>\n",
       "      <td>1.004742</td>\n",
       "      <td>1.009899</td>\n",
       "      <td>1.010372</td>\n",
       "      <td>1.028761</td>\n",
       "      <td>0.999117</td>\n",
       "      <td>1.013201</td>\n",
       "      <td>0.982722</td>\n",
       "      <td>0.995070</td>\n",
       "      <td>1.014555</td>\n",
       "      <td>0.974588</td>\n",
       "      <td>...</td>\n",
       "      <td>1.004747</td>\n",
       "      <td>0.987048</td>\n",
       "      <td>0.985449</td>\n",
       "      <td>1.009861</td>\n",
       "      <td>1.006841</td>\n",
       "      <td>0.977810</td>\n",
       "      <td>1.005753</td>\n",
       "      <td>0.993070</td>\n",
       "      <td>1.003204</td>\n",
       "      <td>0.999315</td>\n",
       "    </tr>\n",
       "    <tr>\n",
       "      <th>3</th>\n",
       "      <td>1.007443</td>\n",
       "      <td>1.002922</td>\n",
       "      <td>1.030131</td>\n",
       "      <td>1.025709</td>\n",
       "      <td>0.990271</td>\n",
       "      <td>1.002992</td>\n",
       "      <td>0.979961</td>\n",
       "      <td>0.977444</td>\n",
       "      <td>1.019848</td>\n",
       "      <td>0.973402</td>\n",
       "      <td>...</td>\n",
       "      <td>0.995034</td>\n",
       "      <td>0.980569</td>\n",
       "      <td>1.005142</td>\n",
       "      <td>1.002240</td>\n",
       "      <td>0.989709</td>\n",
       "      <td>0.996525</td>\n",
       "      <td>1.008146</td>\n",
       "      <td>1.002577</td>\n",
       "      <td>1.001034</td>\n",
       "      <td>1.003928</td>\n",
       "    </tr>\n",
       "    <tr>\n",
       "      <th>4</th>\n",
       "      <td>0.983555</td>\n",
       "      <td>1.020393</td>\n",
       "      <td>1.031515</td>\n",
       "      <td>1.017481</td>\n",
       "      <td>0.978776</td>\n",
       "      <td>0.985952</td>\n",
       "      <td>0.964635</td>\n",
       "      <td>0.971551</td>\n",
       "      <td>1.015712</td>\n",
       "      <td>0.960198</td>\n",
       "      <td>...</td>\n",
       "      <td>1.005413</td>\n",
       "      <td>0.984231</td>\n",
       "      <td>1.014132</td>\n",
       "      <td>0.988741</td>\n",
       "      <td>0.992290</td>\n",
       "      <td>1.018061</td>\n",
       "      <td>1.021528</td>\n",
       "      <td>1.008294</td>\n",
       "      <td>1.000359</td>\n",
       "      <td>1.020553</td>\n",
       "    </tr>\n",
       "    <tr>\n",
       "      <th>...</th>\n",
       "      <td>...</td>\n",
       "      <td>...</td>\n",
       "      <td>...</td>\n",
       "      <td>...</td>\n",
       "      <td>...</td>\n",
       "      <td>...</td>\n",
       "      <td>...</td>\n",
       "      <td>...</td>\n",
       "      <td>...</td>\n",
       "      <td>...</td>\n",
       "      <td>...</td>\n",
       "      <td>...</td>\n",
       "      <td>...</td>\n",
       "      <td>...</td>\n",
       "      <td>...</td>\n",
       "      <td>...</td>\n",
       "      <td>...</td>\n",
       "      <td>...</td>\n",
       "      <td>...</td>\n",
       "      <td>...</td>\n",
       "      <td>...</td>\n",
       "    </tr>\n",
       "    <tr>\n",
       "      <th>2516</th>\n",
       "      <td>1.600667</td>\n",
       "      <td>1.641837</td>\n",
       "      <td>3.410322</td>\n",
       "      <td>0.924616</td>\n",
       "      <td>2.383211</td>\n",
       "      <td>2.882416</td>\n",
       "      <td>1.959275</td>\n",
       "      <td>4.663614</td>\n",
       "      <td>2.415690</td>\n",
       "      <td>1.141366</td>\n",
       "      <td>...</td>\n",
       "      <td>3.463432</td>\n",
       "      <td>4.403038</td>\n",
       "      <td>3.524049</td>\n",
       "      <td>3.058301</td>\n",
       "      <td>1.551536</td>\n",
       "      <td>2.048152</td>\n",
       "      <td>5.499753</td>\n",
       "      <td>0.941843</td>\n",
       "      <td>3.086260</td>\n",
       "      <td>2.360735</td>\n",
       "    </tr>\n",
       "    <tr>\n",
       "      <th>2517</th>\n",
       "      <td>1.598524</td>\n",
       "      <td>1.706440</td>\n",
       "      <td>3.437598</td>\n",
       "      <td>0.906280</td>\n",
       "      <td>2.396761</td>\n",
       "      <td>2.935574</td>\n",
       "      <td>1.960758</td>\n",
       "      <td>4.687019</td>\n",
       "      <td>2.400710</td>\n",
       "      <td>1.148015</td>\n",
       "      <td>...</td>\n",
       "      <td>3.529454</td>\n",
       "      <td>4.354680</td>\n",
       "      <td>3.501426</td>\n",
       "      <td>3.048826</td>\n",
       "      <td>1.532913</td>\n",
       "      <td>2.027938</td>\n",
       "      <td>5.546279</td>\n",
       "      <td>0.944206</td>\n",
       "      <td>3.132763</td>\n",
       "      <td>2.363642</td>\n",
       "    </tr>\n",
       "    <tr>\n",
       "      <th>2518</th>\n",
       "      <td>1.602949</td>\n",
       "      <td>1.719826</td>\n",
       "      <td>3.425295</td>\n",
       "      <td>0.899194</td>\n",
       "      <td>2.387189</td>\n",
       "      <td>2.940648</td>\n",
       "      <td>1.945171</td>\n",
       "      <td>4.643022</td>\n",
       "      <td>2.402567</td>\n",
       "      <td>1.142035</td>\n",
       "      <td>...</td>\n",
       "      <td>3.549882</td>\n",
       "      <td>4.382185</td>\n",
       "      <td>3.517370</td>\n",
       "      <td>3.041997</td>\n",
       "      <td>1.552246</td>\n",
       "      <td>2.007305</td>\n",
       "      <td>5.552593</td>\n",
       "      <td>0.944711</td>\n",
       "      <td>3.175311</td>\n",
       "      <td>2.372677</td>\n",
       "    </tr>\n",
       "    <tr>\n",
       "      <th>2519</th>\n",
       "      <td>1.600539</td>\n",
       "      <td>1.746291</td>\n",
       "      <td>3.389988</td>\n",
       "      <td>0.906079</td>\n",
       "      <td>2.355967</td>\n",
       "      <td>2.907837</td>\n",
       "      <td>1.939671</td>\n",
       "      <td>4.682993</td>\n",
       "      <td>2.374965</td>\n",
       "      <td>1.132106</td>\n",
       "      <td>...</td>\n",
       "      <td>3.542356</td>\n",
       "      <td>4.397037</td>\n",
       "      <td>3.554056</td>\n",
       "      <td>3.018410</td>\n",
       "      <td>1.545706</td>\n",
       "      <td>2.005585</td>\n",
       "      <td>5.491567</td>\n",
       "      <td>0.967295</td>\n",
       "      <td>3.216196</td>\n",
       "      <td>2.361299</td>\n",
       "    </tr>\n",
       "    <tr>\n",
       "      <th>2520</th>\n",
       "      <td>1.610175</td>\n",
       "      <td>1.761578</td>\n",
       "      <td>3.431128</td>\n",
       "      <td>0.912433</td>\n",
       "      <td>2.333636</td>\n",
       "      <td>2.859387</td>\n",
       "      <td>1.918091</td>\n",
       "      <td>4.706662</td>\n",
       "      <td>2.364983</td>\n",
       "      <td>1.124711</td>\n",
       "      <td>...</td>\n",
       "      <td>3.487883</td>\n",
       "      <td>4.374869</td>\n",
       "      <td>3.587690</td>\n",
       "      <td>3.062120</td>\n",
       "      <td>1.579396</td>\n",
       "      <td>1.983455</td>\n",
       "      <td>5.465090</td>\n",
       "      <td>0.976658</td>\n",
       "      <td>3.153626</td>\n",
       "      <td>2.344970</td>\n",
       "    </tr>\n",
       "  </tbody>\n",
       "</table>\n",
       "<p>2521 rows × 500 columns</p>\n",
       "</div>"
      ],
      "text/plain": [
       "           0         1         2         3         4         5         6    \\\n",
       "0     1.000000  1.000000  1.000000  1.000000  1.000000  1.000000  1.000000   \n",
       "1     0.999451  1.007178  0.999338  1.011092  0.996795  1.015168  0.995006   \n",
       "2     1.004742  1.009899  1.010372  1.028761  0.999117  1.013201  0.982722   \n",
       "3     1.007443  1.002922  1.030131  1.025709  0.990271  1.002992  0.979961   \n",
       "4     0.983555  1.020393  1.031515  1.017481  0.978776  0.985952  0.964635   \n",
       "...        ...       ...       ...       ...       ...       ...       ...   \n",
       "2516  1.600667  1.641837  3.410322  0.924616  2.383211  2.882416  1.959275   \n",
       "2517  1.598524  1.706440  3.437598  0.906280  2.396761  2.935574  1.960758   \n",
       "2518  1.602949  1.719826  3.425295  0.899194  2.387189  2.940648  1.945171   \n",
       "2519  1.600539  1.746291  3.389988  0.906079  2.355967  2.907837  1.939671   \n",
       "2520  1.610175  1.761578  3.431128  0.912433  2.333636  2.859387  1.918091   \n",
       "\n",
       "           7         8         9    ...       490       491       492  \\\n",
       "0     1.000000  1.000000  1.000000  ...  1.000000  1.000000  1.000000   \n",
       "1     1.003992  1.011563  0.996774  ...  0.992608  0.986767  1.000179   \n",
       "2     0.995070  1.014555  0.974588  ...  1.004747  0.987048  0.985449   \n",
       "3     0.977444  1.019848  0.973402  ...  0.995034  0.980569  1.005142   \n",
       "4     0.971551  1.015712  0.960198  ...  1.005413  0.984231  1.014132   \n",
       "...        ...       ...       ...  ...       ...       ...       ...   \n",
       "2516  4.663614  2.415690  1.141366  ...  3.463432  4.403038  3.524049   \n",
       "2517  4.687019  2.400710  1.148015  ...  3.529454  4.354680  3.501426   \n",
       "2518  4.643022  2.402567  1.142035  ...  3.549882  4.382185  3.517370   \n",
       "2519  4.682993  2.374965  1.132106  ...  3.542356  4.397037  3.554056   \n",
       "2520  4.706662  2.364983  1.124711  ...  3.487883  4.374869  3.587690   \n",
       "\n",
       "           493       494       495       496       497       498       499  \n",
       "0     1.000000  1.000000  1.000000  1.000000  1.000000  1.000000  1.000000  \n",
       "1     0.990420  1.001119  0.994610  1.000477  1.002784  0.997543  1.017720  \n",
       "2     1.009861  1.006841  0.977810  1.005753  0.993070  1.003204  0.999315  \n",
       "3     1.002240  0.989709  0.996525  1.008146  1.002577  1.001034  1.003928  \n",
       "4     0.988741  0.992290  1.018061  1.021528  1.008294  1.000359  1.020553  \n",
       "...        ...       ...       ...       ...       ...       ...       ...  \n",
       "2516  3.058301  1.551536  2.048152  5.499753  0.941843  3.086260  2.360735  \n",
       "2517  3.048826  1.532913  2.027938  5.546279  0.944206  3.132763  2.363642  \n",
       "2518  3.041997  1.552246  2.007305  5.552593  0.944711  3.175311  2.372677  \n",
       "2519  3.018410  1.545706  2.005585  5.491567  0.967295  3.216196  2.361299  \n",
       "2520  3.062120  1.579396  1.983455  5.465090  0.976658  3.153626  2.344970  \n",
       "\n",
       "[2521 rows x 500 columns]"
      ]
     },
     "execution_count": 44,
     "metadata": {},
     "output_type": "execute_result"
    }
   ],
   "source": [
    "# Run the Monte Carlo simulation to forecast 10 years cumulative returns\n",
    "MC_10year.calc_cumulative_return()"
   ]
  },
  {
   "cell_type": "code",
   "execution_count": 45,
   "metadata": {},
   "outputs": [
    {
     "data": {
      "image/png": "[encoded data removed]",
      "text/plain": [
       "<Figure size 432x288 with 1 Axes>"
      ]
     },
     "metadata": {
      "needs_background": "light"
     },
     "output_type": "display_data"
    }
   ],
   "source": [
    "# Visualize the 10-year Monte Carlo simulation by creating an\n",
    "# overlay line plot\n",
    "MC_10year_sim_line_plot = MC_10year.plot_simulation()"
   ]
  },
  {
   "cell_type": "code",
   "execution_count": 46,
   "metadata": {},
   "outputs": [
    {
     "data": {
      "image/png": "[encoded data removed]",
      "text/plain": [
       "<Figure size 432x288 with 1 Axes>"
      ]
     },
     "metadata": {
      "needs_background": "light"
     },
     "output_type": "display_data"
    }
   ],
   "source": [
    "# Visualize the probability distribution of the 10-year Monte Carlo simulation \n",
    "# by plotting a histogram\n",
    "MC_10year_dist = MC_10year.plot_distribution()"
   ]
  },
  {
   "cell_type": "code",
   "execution_count": 48,
   "metadata": {},
   "outputs": [
    {
     "data": {
      "text/plain": [
       "count           500.000000\n",
       "mean              3.213403\n",
       "std               1.826945\n",
       "min               0.709739\n",
       "25%               2.006442\n",
       "50%               2.754898\n",
       "75%               3.986151\n",
       "max              11.696364\n",
       "95% CI Lower      0.944345\n",
       "95% CI Upper      8.232969\n",
       "Name: 2520, dtype: float64"
      ]
     },
     "execution_count": 48,
     "metadata": {},
     "output_type": "execute_result"
    }
   ],
   "source": [
    "# Generate summary statistics from the 10-year Monte Carlo simulation results\n",
    "# Save the results as a variable\n",
    "MC_10year_summary_stats = MC_10year.summarize_cumulative_return()\n",
    "\n",
    "# Review the 10-year Monte Carlo summary statistics\n",
    "MC_10year_summary_stats"
   ]
  },
  {
   "cell_type": "markdown",
   "metadata": {},
   "source": [
    "### Answer the following questions:"
   ]
  },
  {
   "cell_type": "markdown",
   "metadata": {},
   "source": [
    "#### Question: Using the current value of only the stock and bond portion of the member's portfolio and the summary statistics that you generated from the new Monte Carlo simulation, what are the lower and upper bounds for the expected value of the portfolio (with the new weights) with a 95% confidence interval?"
   ]
  },
  {
   "cell_type": "code",
   "execution_count": 49,
   "metadata": {},
   "outputs": [
    {
     "data": {
      "text/plain": [
       "67862.1"
      ]
     },
     "execution_count": 49,
     "metadata": {},
     "output_type": "execute_result"
    }
   ],
   "source": [
    "# Print the current balance of the stock and bond portion of the members portfolio\n",
    "total_stocks_bonds"
   ]
  },
  {
   "cell_type": "code",
   "execution_count": 52,
   "metadata": {},
   "outputs": [
    {
     "data": {
      "text/plain": [
       "64085.23"
      ]
     },
     "metadata": {},
     "output_type": "display_data"
    },
    {
     "data": {
      "text/plain": [
       "558706.58"
      ]
     },
     "metadata": {},
     "output_type": "display_data"
    }
   ],
   "source": [
    "# Use the lower and upper `95%` confidence intervals to calculate the range of the possible outcomes for the current stock/bond portfolio\n",
    "ci_lower_ten_cumulative_return = total_stocks_bonds * MC_10year_summary_stats[8]\n",
    "ci_upper_ten_cumulative_return = total_stocks_bonds * MC_10year_summary_stats[9]\n",
    "\n",
    "# Print the result of your calculations\n",
    "display(round(ci_lower_ten_cumulative_return, 2))\n",
    "display(round(ci_upper_ten_cumulative_return, 2))"
   ]
  },
  {
   "cell_type": "markdown",
   "metadata": {},
   "source": [
    "#### Question: Will weighting the portfolio more heavily to stocks allow the credit union members to retire after only 10 years?"
   ]
  },
  {
   "cell_type": "raw",
   "metadata": {},
   "source": [
    "**Answer** No, allowing the portfolio to mature 30 years offers a more comfortable retirement."
   ]
  },
  {
   "cell_type": "code",
   "execution_count": null,
   "metadata": {},
   "outputs": [],
   "source": []
  }
 ],
 "metadata": {
  "kernelspec": {
   "display_name": "Python 3 (ipykernel)",
   "language": "python",
   "name": "python3"
  },
  "language_info": {
   "codemirror_mode": {
    "name": "ipython",
    "version": 3
   },
   "file_extension": ".py",
   "mimetype": "text/x-python",
   "name": "python",
   "nbconvert_exporter": "python",
   "pygments_lexer": "ipython3",
   "version": "3.7.11"
  }
 },
 "nbformat": 4,
 "nbformat_minor": 4
}
